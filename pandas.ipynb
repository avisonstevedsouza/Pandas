{
 "cells": [
  {
   "cell_type": "code",
   "execution_count": 1,
   "id": "d7b1f3be",
   "metadata": {
    "_cell_guid": "b1076dfc-b9ad-4769-8c92-a6c4dae69d19",
    "_uuid": "8f2839f25d086af736a60e9eeb907d3b93b6e0e5",
    "execution": {
     "iopub.execute_input": "2024-10-09T09:55:20.609701Z",
     "iopub.status.busy": "2024-10-09T09:55:20.609241Z",
     "iopub.status.idle": "2024-10-09T09:55:21.594875Z",
     "shell.execute_reply": "2024-10-09T09:55:21.593596Z"
    },
    "papermill": {
     "duration": 0.994386,
     "end_time": "2024-10-09T09:55:21.598228",
     "exception": false,
     "start_time": "2024-10-09T09:55:20.603842",
     "status": "completed"
    },
    "tags": []
   },
   "outputs": [],
   "source": [
    "# This Python 3 environment comes with many helpful analytics libraries installed\n",
    "# It is defined by the kaggle/python Docker image: https://github.com/kaggle/docker-python\n",
    "# For example, here's several helpful packages to load\n",
    "\n",
    "import numpy as np # linear algebra\n",
    "import pandas as pd # data processing, CSV file I/O (e.g. pd.read_csv)\n",
    "\n",
    "# Input data files are available in the read-only \"../input/\" directory\n",
    "# For example, running this (by clicking run or pressing Shift+Enter) will list all files under the input directory\n",
    "\n",
    "import os\n",
    "for dirname, _, filenames in os.walk('/kaggle/input'):\n",
    "    for filename in filenames:\n",
    "        print(os.path.join(dirname, filename))\n",
    "\n",
    "# You can write up to 20GB to the current directory (/kaggle/working/) that gets preserved as output when you create a version using \"Save & Run All\" \n",
    "# You can also write temporary files to /kaggle/temp/, but they won't be saved outside of the current session"
   ]
  },
  {
   "cell_type": "code",
   "execution_count": 2,
   "id": "bec5f8cf",
   "metadata": {
    "execution": {
     "iopub.execute_input": "2024-10-09T09:55:21.607663Z",
     "iopub.status.busy": "2024-10-09T09:55:21.606814Z",
     "iopub.status.idle": "2024-10-09T09:55:21.613139Z",
     "shell.execute_reply": "2024-10-09T09:55:21.611764Z"
    },
    "papermill": {
     "duration": 0.013832,
     "end_time": "2024-10-09T09:55:21.615707",
     "exception": false,
     "start_time": "2024-10-09T09:55:21.601875",
     "status": "completed"
    },
    "tags": []
   },
   "outputs": [],
   "source": [
    "import pandas as pd"
   ]
  },
  {
   "cell_type": "code",
   "execution_count": 3,
   "id": "58a48460",
   "metadata": {
    "execution": {
     "iopub.execute_input": "2024-10-09T09:55:21.623995Z",
     "iopub.status.busy": "2024-10-09T09:55:21.623525Z",
     "iopub.status.idle": "2024-10-09T09:55:21.631869Z",
     "shell.execute_reply": "2024-10-09T09:55:21.630633Z"
    },
    "papermill": {
     "duration": 0.015343,
     "end_time": "2024-10-09T09:55:21.634325",
     "exception": false,
     "start_time": "2024-10-09T09:55:21.618982",
     "status": "completed"
    },
    "tags": []
   },
   "outputs": [
    {
     "data": {
      "text/plain": [
       "'2.2.3'"
      ]
     },
     "execution_count": 3,
     "metadata": {},
     "output_type": "execute_result"
    }
   ],
   "source": [
    "pd.__version__"
   ]
  },
  {
   "cell_type": "code",
   "execution_count": 4,
   "id": "115137fd",
   "metadata": {
    "execution": {
     "iopub.execute_input": "2024-10-09T09:55:21.643128Z",
     "iopub.status.busy": "2024-10-09T09:55:21.642629Z",
     "iopub.status.idle": "2024-10-09T09:55:21.650222Z",
     "shell.execute_reply": "2024-10-09T09:55:21.648675Z"
    },
    "papermill": {
     "duration": 0.015384,
     "end_time": "2024-10-09T09:55:21.653138",
     "exception": false,
     "start_time": "2024-10-09T09:55:21.637754",
     "status": "completed"
    },
    "tags": []
   },
   "outputs": [
    {
     "name": "stdout",
     "output_type": "stream",
     "text": [
      "[1, 2, 3, 4, 5, 6]\n"
     ]
    }
   ],
   "source": [
    "lst=[1,2,3,4,5,6]\n",
    "print(lst)"
   ]
  },
  {
   "cell_type": "code",
   "execution_count": 5,
   "id": "cff60624",
   "metadata": {
    "execution": {
     "iopub.execute_input": "2024-10-09T09:55:21.662711Z",
     "iopub.status.busy": "2024-10-09T09:55:21.661576Z",
     "iopub.status.idle": "2024-10-09T09:55:21.670608Z",
     "shell.execute_reply": "2024-10-09T09:55:21.669385Z"
    },
    "papermill": {
     "duration": 0.017236,
     "end_time": "2024-10-09T09:55:21.673877",
     "exception": false,
     "start_time": "2024-10-09T09:55:21.656641",
     "status": "completed"
    },
    "tags": []
   },
   "outputs": [
    {
     "name": "stdout",
     "output_type": "stream",
     "text": [
      "0    1\n",
      "1    2\n",
      "2    3\n",
      "3    4\n",
      "4    5\n",
      "5    6\n",
      "dtype: int64\n",
      "<class 'pandas.core.series.Series'>\n"
     ]
    }
   ],
   "source": [
    "series=pd.Series(lst)\n",
    "print(series)\n",
    "print(type(series))"
   ]
  },
  {
   "cell_type": "code",
   "execution_count": null,
   "id": "ee86be1f",
   "metadata": {
    "papermill": {
     "duration": 0.003212,
     "end_time": "2024-10-09T09:55:21.680636",
     "exception": false,
     "start_time": "2024-10-09T09:55:21.677424",
     "status": "completed"
    },
    "tags": []
   },
   "outputs": [],
   "source": []
  }
 ],
 "metadata": {
  "kaggle": {
   "accelerator": "none",
   "dataSources": [],
   "dockerImageVersionId": 30786,
   "isGpuEnabled": false,
   "isInternetEnabled": true,
   "language": "python",
   "sourceType": "notebook"
  },
  "kernelspec": {
   "display_name": "Python 3",
   "language": "python",
   "name": "python3"
  },
  "language_info": {
   "codemirror_mode": {
    "name": "ipython",
    "version": 3
   },
   "file_extension": ".py",
   "mimetype": "text/x-python",
   "name": "python",
   "nbconvert_exporter": "python",
   "pygments_lexer": "ipython3",
   "version": "3.10.14"
  },
  "papermill": {
   "default_parameters": {},
   "duration": 4.695034,
   "end_time": "2024-10-09T09:55:22.206344",
   "environment_variables": {},
   "exception": null,
   "input_path": "__notebook__.ipynb",
   "output_path": "__notebook__.ipynb",
   "parameters": {},
   "start_time": "2024-10-09T09:55:17.511310",
   "version": "2.6.0"
  }
 },
 "nbformat": 4,
 "nbformat_minor": 5
}
