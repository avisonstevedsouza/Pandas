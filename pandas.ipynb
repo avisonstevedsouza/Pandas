{
 "cells": [
  {
   "cell_type": "code",
   "execution_count": 1,
   "id": "561ed1ac",
   "metadata": {
    "_cell_guid": "b1076dfc-b9ad-4769-8c92-a6c4dae69d19",
    "_uuid": "8f2839f25d086af736a60e9eeb907d3b93b6e0e5",
    "execution": {
     "iopub.execute_input": "2024-10-09T10:03:37.923883Z",
     "iopub.status.busy": "2024-10-09T10:03:37.923496Z",
     "iopub.status.idle": "2024-10-09T10:03:38.757895Z",
     "shell.execute_reply": "2024-10-09T10:03:38.756981Z"
    },
    "papermill": {
     "duration": 0.842255,
     "end_time": "2024-10-09T10:03:38.760515",
     "exception": false,
     "start_time": "2024-10-09T10:03:37.918260",
     "status": "completed"
    },
    "tags": []
   },
   "outputs": [],
   "source": [
    "# This Python 3 environment comes with many helpful analytics libraries installed\n",
    "# It is defined by the kaggle/python Docker image: https://github.com/kaggle/docker-python\n",
    "# For example, here's several helpful packages to load\n",
    "\n",
    "import numpy as np # linear algebra\n",
    "import pandas as pd # data processing, CSV file I/O (e.g. pd.read_csv)\n",
    "\n",
    "# Input data files are available in the read-only \"../input/\" directory\n",
    "# For example, running this (by clicking run or pressing Shift+Enter) will list all files under the input directory\n",
    "\n",
    "import os\n",
    "for dirname, _, filenames in os.walk('/kaggle/input'):\n",
    "    for filename in filenames:\n",
    "        print(os.path.join(dirname, filename))\n",
    "\n",
    "# You can write up to 20GB to the current directory (/kaggle/working/) that gets preserved as output when you create a version using \"Save & Run All\" \n",
    "# You can also write temporary files to /kaggle/temp/, but they won't be saved outside of the current session"
   ]
  },
  {
   "cell_type": "code",
   "execution_count": 2,
   "id": "4b6e0a21",
   "metadata": {
    "execution": {
     "iopub.execute_input": "2024-10-09T10:03:38.768788Z",
     "iopub.status.busy": "2024-10-09T10:03:38.768316Z",
     "iopub.status.idle": "2024-10-09T10:03:38.772751Z",
     "shell.execute_reply": "2024-10-09T10:03:38.771802Z"
    },
    "papermill": {
     "duration": 0.010816,
     "end_time": "2024-10-09T10:03:38.775001",
     "exception": false,
     "start_time": "2024-10-09T10:03:38.764185",
     "status": "completed"
    },
    "tags": []
   },
   "outputs": [],
   "source": [
    "import pandas as pd"
   ]
  },
  {
   "cell_type": "code",
   "execution_count": 3,
   "id": "e94ac740",
   "metadata": {
    "execution": {
     "iopub.execute_input": "2024-10-09T10:03:38.782802Z",
     "iopub.status.busy": "2024-10-09T10:03:38.782460Z",
     "iopub.status.idle": "2024-10-09T10:03:38.789745Z",
     "shell.execute_reply": "2024-10-09T10:03:38.788720Z"
    },
    "papermill": {
     "duration": 0.013742,
     "end_time": "2024-10-09T10:03:38.791898",
     "exception": false,
     "start_time": "2024-10-09T10:03:38.778156",
     "status": "completed"
    },
    "tags": []
   },
   "outputs": [
    {
     "data": {
      "text/plain": [
       "'2.2.3'"
      ]
     },
     "execution_count": 3,
     "metadata": {},
     "output_type": "execute_result"
    }
   ],
   "source": [
    "pd.__version__"
   ]
  },
  {
   "cell_type": "code",
   "execution_count": 4,
   "id": "65eeb96c",
   "metadata": {
    "execution": {
     "iopub.execute_input": "2024-10-09T10:03:38.799663Z",
     "iopub.status.busy": "2024-10-09T10:03:38.799290Z",
     "iopub.status.idle": "2024-10-09T10:03:38.804844Z",
     "shell.execute_reply": "2024-10-09T10:03:38.803768Z"
    },
    "papermill": {
     "duration": 0.012005,
     "end_time": "2024-10-09T10:03:38.807195",
     "exception": false,
     "start_time": "2024-10-09T10:03:38.795190",
     "status": "completed"
    },
    "tags": []
   },
   "outputs": [
    {
     "name": "stdout",
     "output_type": "stream",
     "text": [
      "[1, 2, 3, 4, 5, 6]\n"
     ]
    }
   ],
   "source": [
    "lst=[1,2,3,4,5,6]\n",
    "print(lst)"
   ]
  },
  {
   "cell_type": "code",
   "execution_count": 5,
   "id": "e27d8e16",
   "metadata": {
    "execution": {
     "iopub.execute_input": "2024-10-09T10:03:38.815793Z",
     "iopub.status.busy": "2024-10-09T10:03:38.815097Z",
     "iopub.status.idle": "2024-10-09T10:03:38.823176Z",
     "shell.execute_reply": "2024-10-09T10:03:38.822203Z"
    },
    "papermill": {
     "duration": 0.014945,
     "end_time": "2024-10-09T10:03:38.825682",
     "exception": false,
     "start_time": "2024-10-09T10:03:38.810737",
     "status": "completed"
    },
    "tags": []
   },
   "outputs": [
    {
     "name": "stdout",
     "output_type": "stream",
     "text": [
      "0    1\n",
      "1    2\n",
      "2    3\n",
      "3    4\n",
      "4    5\n",
      "5    6\n",
      "dtype: int64\n",
      "<class 'pandas.core.series.Series'>\n"
     ]
    }
   ],
   "source": [
    "series=pd.Series(lst)\n",
    "print(series)\n",
    "print(type(series))"
   ]
  },
  {
   "cell_type": "code",
   "execution_count": 6,
   "id": "68855226",
   "metadata": {
    "execution": {
     "iopub.execute_input": "2024-10-09T10:03:38.833870Z",
     "iopub.status.busy": "2024-10-09T10:03:38.833567Z",
     "iopub.status.idle": "2024-10-09T10:03:38.840757Z",
     "shell.execute_reply": "2024-10-09T10:03:38.839761Z"
    },
    "papermill": {
     "duration": 0.014005,
     "end_time": "2024-10-09T10:03:38.843124",
     "exception": false,
     "start_time": "2024-10-09T10:03:38.829119",
     "status": "completed"
    },
    "tags": []
   },
   "outputs": [
    {
     "data": {
      "text/plain": [
       "Series([], dtype: object)"
      ]
     },
     "execution_count": 6,
     "metadata": {},
     "output_type": "execute_result"
    }
   ],
   "source": [
    "empty=pd.Series([])\n",
    "empty"
   ]
  },
  {
   "cell_type": "code",
   "execution_count": null,
   "id": "569411ce",
   "metadata": {
    "papermill": {
     "duration": 0.00338,
     "end_time": "2024-10-09T10:03:38.850088",
     "exception": false,
     "start_time": "2024-10-09T10:03:38.846708",
     "status": "completed"
    },
    "tags": []
   },
   "outputs": [],
   "source": []
  }
 ],
 "metadata": {
  "kaggle": {
   "accelerator": "none",
   "dataSources": [],
   "dockerImageVersionId": 30786,
   "isGpuEnabled": false,
   "isInternetEnabled": true,
   "language": "python",
   "sourceType": "notebook"
  },
  "kernelspec": {
   "display_name": "Python 3",
   "language": "python",
   "name": "python3"
  },
  "language_info": {
   "codemirror_mode": {
    "name": "ipython",
    "version": 3
   },
   "file_extension": ".py",
   "mimetype": "text/x-python",
   "name": "python",
   "nbconvert_exporter": "python",
   "pygments_lexer": "ipython3",
   "version": "3.10.14"
  },
  "papermill": {
   "default_parameters": {},
   "duration": 4.170511,
   "end_time": "2024-10-09T10:03:39.272794",
   "environment_variables": {},
   "exception": null,
   "input_path": "__notebook__.ipynb",
   "output_path": "__notebook__.ipynb",
   "parameters": {},
   "start_time": "2024-10-09T10:03:35.102283",
   "version": "2.6.0"
  }
 },
 "nbformat": 4,
 "nbformat_minor": 5
}
