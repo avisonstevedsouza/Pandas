{
 "cells": [
  {
   "cell_type": "code",
   "execution_count": 1,
   "id": "339e4d2a",
   "metadata": {
    "execution": {
     "iopub.execute_input": "2024-10-10T10:25:16.099065Z",
     "iopub.status.busy": "2024-10-10T10:25:16.097951Z",
     "iopub.status.idle": "2024-10-10T10:25:17.068448Z",
     "shell.execute_reply": "2024-10-10T10:25:17.067185Z"
    },
    "papermill": {
     "duration": 0.983479,
     "end_time": "2024-10-10T10:25:17.071634",
     "exception": false,
     "start_time": "2024-10-10T10:25:16.088155",
     "status": "completed"
    },
    "tags": []
   },
   "outputs": [],
   "source": [
    "import pandas as pd"
   ]
  },
  {
   "cell_type": "code",
   "execution_count": 2,
   "id": "41e1201d",
   "metadata": {
    "execution": {
     "iopub.execute_input": "2024-10-10T10:25:17.087330Z",
     "iopub.status.busy": "2024-10-10T10:25:17.086642Z",
     "iopub.status.idle": "2024-10-10T10:25:17.136691Z",
     "shell.execute_reply": "2024-10-10T10:25:17.135442Z"
    },
    "papermill": {
     "duration": 0.060833,
     "end_time": "2024-10-10T10:25:17.139297",
     "exception": false,
     "start_time": "2024-10-10T10:25:17.078464",
     "status": "completed"
    },
    "tags": []
   },
   "outputs": [
    {
     "data": {
      "text/html": [
       "<div>\n",
       "<style scoped>\n",
       "    .dataframe tbody tr th:only-of-type {\n",
       "        vertical-align: middle;\n",
       "    }\n",
       "\n",
       "    .dataframe tbody tr th {\n",
       "        vertical-align: top;\n",
       "    }\n",
       "\n",
       "    .dataframe thead th {\n",
       "        text-align: right;\n",
       "    }\n",
       "</style>\n",
       "<table border=\"1\" class=\"dataframe\">\n",
       "  <thead>\n",
       "    <tr style=\"text-align: right;\">\n",
       "      <th></th>\n",
       "      <th>Rank</th>\n",
       "      <th>Restaurant</th>\n",
       "      <th>Content</th>\n",
       "      <th>Sales</th>\n",
       "      <th>YOY_Sales</th>\n",
       "      <th>Units</th>\n",
       "      <th>YOY_Units</th>\n",
       "      <th>Headquarters</th>\n",
       "      <th>Segment_Category</th>\n",
       "    </tr>\n",
       "  </thead>\n",
       "  <tbody>\n",
       "    <tr>\n",
       "      <th>0</th>\n",
       "      <td>1</td>\n",
       "      <td>McDonald's</td>\n",
       "      <td>NaN</td>\n",
       "      <td>40412</td>\n",
       "      <td>4.9%</td>\n",
       "      <td>13846</td>\n",
       "      <td>-0.5%</td>\n",
       "      <td>NaN</td>\n",
       "      <td>Quick Service &amp; Burger</td>\n",
       "    </tr>\n",
       "    <tr>\n",
       "      <th>1</th>\n",
       "      <td>2</td>\n",
       "      <td>Starbucks</td>\n",
       "      <td>NaN</td>\n",
       "      <td>21380</td>\n",
       "      <td>8.6%</td>\n",
       "      <td>15049</td>\n",
       "      <td>3.0%</td>\n",
       "      <td>NaN</td>\n",
       "      <td>Quick Service &amp; Coffee Cafe</td>\n",
       "    </tr>\n",
       "    <tr>\n",
       "      <th>2</th>\n",
       "      <td>3</td>\n",
       "      <td>Chick-fil-A</td>\n",
       "      <td>While Popeyes got a lot of the chicken buzz in...</td>\n",
       "      <td>11320</td>\n",
       "      <td>13.0%</td>\n",
       "      <td>2470</td>\n",
       "      <td>5.0%</td>\n",
       "      <td>NaN</td>\n",
       "      <td>Quick Service &amp; Chicken</td>\n",
       "    </tr>\n",
       "    <tr>\n",
       "      <th>3</th>\n",
       "      <td>4</td>\n",
       "      <td>Taco Bell</td>\n",
       "      <td>NaN</td>\n",
       "      <td>11293</td>\n",
       "      <td>9.0%</td>\n",
       "      <td>6766</td>\n",
       "      <td>2.7%</td>\n",
       "      <td>NaN</td>\n",
       "      <td>Quick Service &amp; Mexican</td>\n",
       "    </tr>\n",
       "    <tr>\n",
       "      <th>4</th>\n",
       "      <td>5</td>\n",
       "      <td>Burger King</td>\n",
       "      <td>NaN</td>\n",
       "      <td>10204</td>\n",
       "      <td>2.7%</td>\n",
       "      <td>7346</td>\n",
       "      <td>0.2%</td>\n",
       "      <td>NaN</td>\n",
       "      <td>Quick Service &amp; Burger</td>\n",
       "    </tr>\n",
       "    <tr>\n",
       "      <th>...</th>\n",
       "      <td>...</td>\n",
       "      <td>...</td>\n",
       "      <td>...</td>\n",
       "      <td>...</td>\n",
       "      <td>...</td>\n",
       "      <td>...</td>\n",
       "      <td>...</td>\n",
       "      <td>...</td>\n",
       "      <td>...</td>\n",
       "    </tr>\n",
       "    <tr>\n",
       "      <th>245</th>\n",
       "      <td>246</td>\n",
       "      <td>Rainforest Cafe</td>\n",
       "      <td>NaN</td>\n",
       "      <td>129</td>\n",
       "      <td>-10.4%</td>\n",
       "      <td>18</td>\n",
       "      <td>-5.3%</td>\n",
       "      <td>NaN</td>\n",
       "      <td>Varied Menu</td>\n",
       "    </tr>\n",
       "    <tr>\n",
       "      <th>246</th>\n",
       "      <td>247</td>\n",
       "      <td>PDQ</td>\n",
       "      <td>NaN</td>\n",
       "      <td>127</td>\n",
       "      <td>-5.5%</td>\n",
       "      <td>56</td>\n",
       "      <td>-11.1%</td>\n",
       "      <td>NaN</td>\n",
       "      <td>Chicken</td>\n",
       "    </tr>\n",
       "    <tr>\n",
       "      <th>247</th>\n",
       "      <td>248</td>\n",
       "      <td>Lupe Tortilla</td>\n",
       "      <td>NaN</td>\n",
       "      <td>127</td>\n",
       "      <td>12.1%</td>\n",
       "      <td>25</td>\n",
       "      <td>8.7%</td>\n",
       "      <td>NaN</td>\n",
       "      <td>Mexican</td>\n",
       "    </tr>\n",
       "    <tr>\n",
       "      <th>248</th>\n",
       "      <td>249</td>\n",
       "      <td>Cook-Out Restaurant</td>\n",
       "      <td>NaN</td>\n",
       "      <td>126</td>\n",
       "      <td>10.1%</td>\n",
       "      <td>270</td>\n",
       "      <td>7.1%</td>\n",
       "      <td>NaN</td>\n",
       "      <td>Burger</td>\n",
       "    </tr>\n",
       "    <tr>\n",
       "      <th>249</th>\n",
       "      <td>250</td>\n",
       "      <td>Jollibee</td>\n",
       "      <td>NaN</td>\n",
       "      <td>126</td>\n",
       "      <td>15.2%</td>\n",
       "      <td>40</td>\n",
       "      <td>11.1%</td>\n",
       "      <td>NaN</td>\n",
       "      <td>Chicken</td>\n",
       "    </tr>\n",
       "  </tbody>\n",
       "</table>\n",
       "<p>250 rows × 9 columns</p>\n",
       "</div>"
      ],
      "text/plain": [
       "     Rank           Restaurant  \\\n",
       "0       1           McDonald's   \n",
       "1       2            Starbucks   \n",
       "2       3          Chick-fil-A   \n",
       "3       4            Taco Bell   \n",
       "4       5          Burger King   \n",
       "..    ...                  ...   \n",
       "245   246      Rainforest Cafe   \n",
       "246   247                  PDQ   \n",
       "247   248        Lupe Tortilla   \n",
       "248   249  Cook-Out Restaurant   \n",
       "249   250             Jollibee   \n",
       "\n",
       "                                               Content  Sales YOY_Sales  \\\n",
       "0                                                  NaN  40412      4.9%   \n",
       "1                                                  NaN  21380      8.6%   \n",
       "2    While Popeyes got a lot of the chicken buzz in...  11320     13.0%   \n",
       "3                                                  NaN  11293      9.0%   \n",
       "4                                                  NaN  10204      2.7%   \n",
       "..                                                 ...    ...       ...   \n",
       "245                                                NaN    129    -10.4%   \n",
       "246                                                NaN    127     -5.5%   \n",
       "247                                                NaN    127     12.1%   \n",
       "248                                                NaN    126     10.1%   \n",
       "249                                                NaN    126     15.2%   \n",
       "\n",
       "     Units YOY_Units Headquarters             Segment_Category  \n",
       "0    13846     -0.5%          NaN       Quick Service & Burger  \n",
       "1    15049      3.0%          NaN  Quick Service & Coffee Cafe  \n",
       "2     2470      5.0%          NaN      Quick Service & Chicken  \n",
       "3     6766      2.7%          NaN      Quick Service & Mexican  \n",
       "4     7346      0.2%          NaN       Quick Service & Burger  \n",
       "..     ...       ...          ...                          ...  \n",
       "245     18     -5.3%          NaN                  Varied Menu  \n",
       "246     56    -11.1%          NaN                      Chicken  \n",
       "247     25      8.7%          NaN                      Mexican  \n",
       "248    270      7.1%          NaN                       Burger  \n",
       "249     40     11.1%          NaN                      Chicken  \n",
       "\n",
       "[250 rows x 9 columns]"
      ]
     },
     "execution_count": 2,
     "metadata": {},
     "output_type": "execute_result"
    }
   ],
   "source": [
    "df=pd.read_csv('/kaggle/input/restaurant-dataset/Restaurant.csv')\n",
    "df"
   ]
  },
  {
   "cell_type": "code",
   "execution_count": 3,
   "id": "fd5d01ae",
   "metadata": {
    "execution": {
     "iopub.execute_input": "2024-10-10T10:25:17.156376Z",
     "iopub.status.busy": "2024-10-10T10:25:17.155054Z",
     "iopub.status.idle": "2024-10-10T10:25:17.174331Z",
     "shell.execute_reply": "2024-10-10T10:25:17.172735Z"
    },
    "papermill": {
     "duration": 0.030664,
     "end_time": "2024-10-10T10:25:17.177135",
     "exception": false,
     "start_time": "2024-10-10T10:25:17.146471",
     "status": "completed"
    },
    "tags": []
   },
   "outputs": [
    {
     "data": {
      "text/html": [
       "<div>\n",
       "<style scoped>\n",
       "    .dataframe tbody tr th:only-of-type {\n",
       "        vertical-align: middle;\n",
       "    }\n",
       "\n",
       "    .dataframe tbody tr th {\n",
       "        vertical-align: top;\n",
       "    }\n",
       "\n",
       "    .dataframe thead th {\n",
       "        text-align: right;\n",
       "    }\n",
       "</style>\n",
       "<table border=\"1\" class=\"dataframe\">\n",
       "  <thead>\n",
       "    <tr style=\"text-align: right;\">\n",
       "      <th></th>\n",
       "      <th>Rank</th>\n",
       "      <th>Restaurant</th>\n",
       "      <th>Content</th>\n",
       "      <th>Sales</th>\n",
       "      <th>YOY_Sales</th>\n",
       "      <th>Units</th>\n",
       "      <th>YOY_Units</th>\n",
       "      <th>Headquarters</th>\n",
       "      <th>Segment_Category</th>\n",
       "    </tr>\n",
       "  </thead>\n",
       "  <tbody>\n",
       "    <tr>\n",
       "      <th>0</th>\n",
       "      <td>1</td>\n",
       "      <td>McDonald's</td>\n",
       "      <td>NaN</td>\n",
       "      <td>40412</td>\n",
       "      <td>4.9%</td>\n",
       "      <td>13846</td>\n",
       "      <td>-0.5%</td>\n",
       "      <td>NaN</td>\n",
       "      <td>Quick Service &amp; Burger</td>\n",
       "    </tr>\n",
       "    <tr>\n",
       "      <th>1</th>\n",
       "      <td>2</td>\n",
       "      <td>Starbucks</td>\n",
       "      <td>NaN</td>\n",
       "      <td>21380</td>\n",
       "      <td>8.6%</td>\n",
       "      <td>15049</td>\n",
       "      <td>3.0%</td>\n",
       "      <td>NaN</td>\n",
       "      <td>Quick Service &amp; Coffee Cafe</td>\n",
       "    </tr>\n",
       "    <tr>\n",
       "      <th>2</th>\n",
       "      <td>3</td>\n",
       "      <td>Chick-fil-A</td>\n",
       "      <td>While Popeyes got a lot of the chicken buzz in...</td>\n",
       "      <td>11320</td>\n",
       "      <td>13.0%</td>\n",
       "      <td>2470</td>\n",
       "      <td>5.0%</td>\n",
       "      <td>NaN</td>\n",
       "      <td>Quick Service &amp; Chicken</td>\n",
       "    </tr>\n",
       "    <tr>\n",
       "      <th>3</th>\n",
       "      <td>4</td>\n",
       "      <td>Taco Bell</td>\n",
       "      <td>NaN</td>\n",
       "      <td>11293</td>\n",
       "      <td>9.0%</td>\n",
       "      <td>6766</td>\n",
       "      <td>2.7%</td>\n",
       "      <td>NaN</td>\n",
       "      <td>Quick Service &amp; Mexican</td>\n",
       "    </tr>\n",
       "    <tr>\n",
       "      <th>4</th>\n",
       "      <td>5</td>\n",
       "      <td>Burger King</td>\n",
       "      <td>NaN</td>\n",
       "      <td>10204</td>\n",
       "      <td>2.7%</td>\n",
       "      <td>7346</td>\n",
       "      <td>0.2%</td>\n",
       "      <td>NaN</td>\n",
       "      <td>Quick Service &amp; Burger</td>\n",
       "    </tr>\n",
       "  </tbody>\n",
       "</table>\n",
       "</div>"
      ],
      "text/plain": [
       "   Rank   Restaurant                                            Content  \\\n",
       "0     1   McDonald's                                                NaN   \n",
       "1     2    Starbucks                                                NaN   \n",
       "2     3  Chick-fil-A  While Popeyes got a lot of the chicken buzz in...   \n",
       "3     4    Taco Bell                                                NaN   \n",
       "4     5  Burger King                                                NaN   \n",
       "\n",
       "   Sales YOY_Sales  Units YOY_Units Headquarters             Segment_Category  \n",
       "0  40412      4.9%  13846     -0.5%          NaN       Quick Service & Burger  \n",
       "1  21380      8.6%  15049      3.0%          NaN  Quick Service & Coffee Cafe  \n",
       "2  11320     13.0%   2470      5.0%          NaN      Quick Service & Chicken  \n",
       "3  11293      9.0%   6766      2.7%          NaN      Quick Service & Mexican  \n",
       "4  10204      2.7%   7346      0.2%          NaN       Quick Service & Burger  "
      ]
     },
     "execution_count": 3,
     "metadata": {},
     "output_type": "execute_result"
    }
   ],
   "source": [
    "df.head()"
   ]
  },
  {
   "cell_type": "code",
   "execution_count": 4,
   "id": "9b85ed97",
   "metadata": {
    "execution": {
     "iopub.execute_input": "2024-10-10T10:25:17.194590Z",
     "iopub.status.busy": "2024-10-10T10:25:17.194053Z",
     "iopub.status.idle": "2024-10-10T10:25:17.212029Z",
     "shell.execute_reply": "2024-10-10T10:25:17.210806Z"
    },
    "papermill": {
     "duration": 0.029585,
     "end_time": "2024-10-10T10:25:17.214630",
     "exception": false,
     "start_time": "2024-10-10T10:25:17.185045",
     "status": "completed"
    },
    "tags": []
   },
   "outputs": [
    {
     "data": {
      "text/html": [
       "<div>\n",
       "<style scoped>\n",
       "    .dataframe tbody tr th:only-of-type {\n",
       "        vertical-align: middle;\n",
       "    }\n",
       "\n",
       "    .dataframe tbody tr th {\n",
       "        vertical-align: top;\n",
       "    }\n",
       "\n",
       "    .dataframe thead th {\n",
       "        text-align: right;\n",
       "    }\n",
       "</style>\n",
       "<table border=\"1\" class=\"dataframe\">\n",
       "  <thead>\n",
       "    <tr style=\"text-align: right;\">\n",
       "      <th></th>\n",
       "      <th>Rank</th>\n",
       "      <th>Restaurant</th>\n",
       "      <th>Content</th>\n",
       "      <th>Sales</th>\n",
       "      <th>YOY_Sales</th>\n",
       "      <th>Units</th>\n",
       "      <th>YOY_Units</th>\n",
       "      <th>Headquarters</th>\n",
       "      <th>Segment_Category</th>\n",
       "    </tr>\n",
       "  </thead>\n",
       "  <tbody>\n",
       "    <tr>\n",
       "      <th>245</th>\n",
       "      <td>246</td>\n",
       "      <td>Rainforest Cafe</td>\n",
       "      <td>NaN</td>\n",
       "      <td>129</td>\n",
       "      <td>-10.4%</td>\n",
       "      <td>18</td>\n",
       "      <td>-5.3%</td>\n",
       "      <td>NaN</td>\n",
       "      <td>Varied Menu</td>\n",
       "    </tr>\n",
       "    <tr>\n",
       "      <th>246</th>\n",
       "      <td>247</td>\n",
       "      <td>PDQ</td>\n",
       "      <td>NaN</td>\n",
       "      <td>127</td>\n",
       "      <td>-5.5%</td>\n",
       "      <td>56</td>\n",
       "      <td>-11.1%</td>\n",
       "      <td>NaN</td>\n",
       "      <td>Chicken</td>\n",
       "    </tr>\n",
       "    <tr>\n",
       "      <th>247</th>\n",
       "      <td>248</td>\n",
       "      <td>Lupe Tortilla</td>\n",
       "      <td>NaN</td>\n",
       "      <td>127</td>\n",
       "      <td>12.1%</td>\n",
       "      <td>25</td>\n",
       "      <td>8.7%</td>\n",
       "      <td>NaN</td>\n",
       "      <td>Mexican</td>\n",
       "    </tr>\n",
       "    <tr>\n",
       "      <th>248</th>\n",
       "      <td>249</td>\n",
       "      <td>Cook-Out Restaurant</td>\n",
       "      <td>NaN</td>\n",
       "      <td>126</td>\n",
       "      <td>10.1%</td>\n",
       "      <td>270</td>\n",
       "      <td>7.1%</td>\n",
       "      <td>NaN</td>\n",
       "      <td>Burger</td>\n",
       "    </tr>\n",
       "    <tr>\n",
       "      <th>249</th>\n",
       "      <td>250</td>\n",
       "      <td>Jollibee</td>\n",
       "      <td>NaN</td>\n",
       "      <td>126</td>\n",
       "      <td>15.2%</td>\n",
       "      <td>40</td>\n",
       "      <td>11.1%</td>\n",
       "      <td>NaN</td>\n",
       "      <td>Chicken</td>\n",
       "    </tr>\n",
       "  </tbody>\n",
       "</table>\n",
       "</div>"
      ],
      "text/plain": [
       "     Rank           Restaurant Content  Sales YOY_Sales  Units YOY_Units  \\\n",
       "245   246      Rainforest Cafe     NaN    129    -10.4%     18     -5.3%   \n",
       "246   247                  PDQ     NaN    127     -5.5%     56    -11.1%   \n",
       "247   248        Lupe Tortilla     NaN    127     12.1%     25      8.7%   \n",
       "248   249  Cook-Out Restaurant     NaN    126     10.1%    270      7.1%   \n",
       "249   250             Jollibee     NaN    126     15.2%     40     11.1%   \n",
       "\n",
       "    Headquarters Segment_Category  \n",
       "245          NaN      Varied Menu  \n",
       "246          NaN          Chicken  \n",
       "247          NaN          Mexican  \n",
       "248          NaN           Burger  \n",
       "249          NaN          Chicken  "
      ]
     },
     "execution_count": 4,
     "metadata": {},
     "output_type": "execute_result"
    }
   ],
   "source": [
    "df.tail()"
   ]
  },
  {
   "cell_type": "code",
   "execution_count": 5,
   "id": "967dcf24",
   "metadata": {
    "execution": {
     "iopub.execute_input": "2024-10-10T10:25:17.232428Z",
     "iopub.status.busy": "2024-10-10T10:25:17.231367Z",
     "iopub.status.idle": "2024-10-10T10:25:17.261048Z",
     "shell.execute_reply": "2024-10-10T10:25:17.259829Z"
    },
    "papermill": {
     "duration": 0.041268,
     "end_time": "2024-10-10T10:25:17.263603",
     "exception": false,
     "start_time": "2024-10-10T10:25:17.222335",
     "status": "completed"
    },
    "tags": []
   },
   "outputs": [
    {
     "data": {
      "text/html": [
       "<div>\n",
       "<style scoped>\n",
       "    .dataframe tbody tr th:only-of-type {\n",
       "        vertical-align: middle;\n",
       "    }\n",
       "\n",
       "    .dataframe tbody tr th {\n",
       "        vertical-align: top;\n",
       "    }\n",
       "\n",
       "    .dataframe thead th {\n",
       "        text-align: right;\n",
       "    }\n",
       "</style>\n",
       "<table border=\"1\" class=\"dataframe\">\n",
       "  <thead>\n",
       "    <tr style=\"text-align: right;\">\n",
       "      <th></th>\n",
       "      <th>Rank</th>\n",
       "      <th>Sales</th>\n",
       "      <th>Units</th>\n",
       "    </tr>\n",
       "  </thead>\n",
       "  <tbody>\n",
       "    <tr>\n",
       "      <th>count</th>\n",
       "      <td>250.000000</td>\n",
       "      <td>250.00000</td>\n",
       "      <td>250.000000</td>\n",
       "    </tr>\n",
       "    <tr>\n",
       "      <th>mean</th>\n",
       "      <td>125.500000</td>\n",
       "      <td>1242.74000</td>\n",
       "      <td>850.076000</td>\n",
       "    </tr>\n",
       "    <tr>\n",
       "      <th>std</th>\n",
       "      <td>72.312977</td>\n",
       "      <td>3365.22882</td>\n",
       "      <td>2296.151659</td>\n",
       "    </tr>\n",
       "    <tr>\n",
       "      <th>min</th>\n",
       "      <td>1.000000</td>\n",
       "      <td>126.00000</td>\n",
       "      <td>13.000000</td>\n",
       "    </tr>\n",
       "    <tr>\n",
       "      <th>25%</th>\n",
       "      <td>63.250000</td>\n",
       "      <td>181.00000</td>\n",
       "      <td>85.000000</td>\n",
       "    </tr>\n",
       "    <tr>\n",
       "      <th>50%</th>\n",
       "      <td>125.500000</td>\n",
       "      <td>330.00000</td>\n",
       "      <td>207.000000</td>\n",
       "    </tr>\n",
       "    <tr>\n",
       "      <th>75%</th>\n",
       "      <td>187.750000</td>\n",
       "      <td>724.75000</td>\n",
       "      <td>555.250000</td>\n",
       "    </tr>\n",
       "    <tr>\n",
       "      <th>max</th>\n",
       "      <td>250.000000</td>\n",
       "      <td>40412.00000</td>\n",
       "      <td>23801.000000</td>\n",
       "    </tr>\n",
       "  </tbody>\n",
       "</table>\n",
       "</div>"
      ],
      "text/plain": [
       "             Rank        Sales         Units\n",
       "count  250.000000    250.00000    250.000000\n",
       "mean   125.500000   1242.74000    850.076000\n",
       "std     72.312977   3365.22882   2296.151659\n",
       "min      1.000000    126.00000     13.000000\n",
       "25%     63.250000    181.00000     85.000000\n",
       "50%    125.500000    330.00000    207.000000\n",
       "75%    187.750000    724.75000    555.250000\n",
       "max    250.000000  40412.00000  23801.000000"
      ]
     },
     "execution_count": 5,
     "metadata": {},
     "output_type": "execute_result"
    }
   ],
   "source": [
    "df.describe()"
   ]
  },
  {
   "cell_type": "code",
   "execution_count": 6,
   "id": "dd9b059e",
   "metadata": {
    "execution": {
     "iopub.execute_input": "2024-10-10T10:25:17.281843Z",
     "iopub.status.busy": "2024-10-10T10:25:17.280744Z",
     "iopub.status.idle": "2024-10-10T10:25:17.288653Z",
     "shell.execute_reply": "2024-10-10T10:25:17.287504Z"
    },
    "papermill": {
     "duration": 0.01965,
     "end_time": "2024-10-10T10:25:17.291111",
     "exception": false,
     "start_time": "2024-10-10T10:25:17.271461",
     "status": "completed"
    },
    "tags": []
   },
   "outputs": [
    {
     "data": {
      "text/plain": [
       "(250, 9)"
      ]
     },
     "execution_count": 6,
     "metadata": {},
     "output_type": "execute_result"
    }
   ],
   "source": [
    "df.shape"
   ]
  },
  {
   "cell_type": "markdown",
   "id": "eee47b27",
   "metadata": {
    "papermill": {
     "duration": 0.009079,
     "end_time": "2024-10-10T10:25:17.308139",
     "exception": false,
     "start_time": "2024-10-10T10:25:17.299060",
     "status": "completed"
    },
    "tags": []
   },
   "source": []
  },
  {
   "cell_type": "code",
   "execution_count": 7,
   "id": "03be5040",
   "metadata": {
    "execution": {
     "iopub.execute_input": "2024-10-10T10:25:17.326418Z",
     "iopub.status.busy": "2024-10-10T10:25:17.325872Z",
     "iopub.status.idle": "2024-10-10T10:25:17.333844Z",
     "shell.execute_reply": "2024-10-10T10:25:17.332648Z"
    },
    "papermill": {
     "duration": 0.020317,
     "end_time": "2024-10-10T10:25:17.336478",
     "exception": false,
     "start_time": "2024-10-10T10:25:17.316161",
     "status": "completed"
    },
    "tags": []
   },
   "outputs": [
    {
     "data": {
      "text/plain": [
       "2250"
      ]
     },
     "execution_count": 7,
     "metadata": {},
     "output_type": "execute_result"
    }
   ],
   "source": [
    "df.size"
   ]
  },
  {
   "cell_type": "code",
   "execution_count": 8,
   "id": "038b9e99",
   "metadata": {
    "execution": {
     "iopub.execute_input": "2024-10-10T10:25:17.355432Z",
     "iopub.status.busy": "2024-10-10T10:25:17.354439Z",
     "iopub.status.idle": "2024-10-10T10:25:17.380468Z",
     "shell.execute_reply": "2024-10-10T10:25:17.379214Z"
    },
    "papermill": {
     "duration": 0.038471,
     "end_time": "2024-10-10T10:25:17.383245",
     "exception": false,
     "start_time": "2024-10-10T10:25:17.344774",
     "status": "completed"
    },
    "tags": []
   },
   "outputs": [
    {
     "name": "stdout",
     "output_type": "stream",
     "text": [
      "<class 'pandas.core.frame.DataFrame'>\n",
      "RangeIndex: 250 entries, 0 to 249\n",
      "Data columns (total 9 columns):\n",
      " #   Column            Non-Null Count  Dtype \n",
      "---  ------            --------------  ----- \n",
      " 0   Rank              250 non-null    int64 \n",
      " 1   Restaurant        250 non-null    object\n",
      " 2   Content           33 non-null     object\n",
      " 3   Sales             250 non-null    int64 \n",
      " 4   YOY_Sales         250 non-null    object\n",
      " 5   Units             250 non-null    int64 \n",
      " 6   YOY_Units         250 non-null    object\n",
      " 7   Headquarters      52 non-null     object\n",
      " 8   Segment_Category  250 non-null    object\n",
      "dtypes: int64(3), object(6)\n",
      "memory usage: 17.7+ KB\n"
     ]
    }
   ],
   "source": [
    "df.info()"
   ]
  },
  {
   "cell_type": "markdown",
   "id": "06367f34",
   "metadata": {
    "papermill": {
     "duration": 0.008001,
     "end_time": "2024-10-10T10:25:17.399686",
     "exception": false,
     "start_time": "2024-10-10T10:25:17.391685",
     "status": "completed"
    },
    "tags": []
   },
   "source": [
    "# Finding null values"
   ]
  },
  {
   "cell_type": "code",
   "execution_count": 9,
   "id": "9d80fd94",
   "metadata": {
    "execution": {
     "iopub.execute_input": "2024-10-10T10:25:17.419170Z",
     "iopub.status.busy": "2024-10-10T10:25:17.418101Z",
     "iopub.status.idle": "2024-10-10T10:25:17.438776Z",
     "shell.execute_reply": "2024-10-10T10:25:17.437613Z"
    },
    "papermill": {
     "duration": 0.032984,
     "end_time": "2024-10-10T10:25:17.441280",
     "exception": false,
     "start_time": "2024-10-10T10:25:17.408296",
     "status": "completed"
    },
    "tags": []
   },
   "outputs": [
    {
     "data": {
      "text/html": [
       "<div>\n",
       "<style scoped>\n",
       "    .dataframe tbody tr th:only-of-type {\n",
       "        vertical-align: middle;\n",
       "    }\n",
       "\n",
       "    .dataframe tbody tr th {\n",
       "        vertical-align: top;\n",
       "    }\n",
       "\n",
       "    .dataframe thead th {\n",
       "        text-align: right;\n",
       "    }\n",
       "</style>\n",
       "<table border=\"1\" class=\"dataframe\">\n",
       "  <thead>\n",
       "    <tr style=\"text-align: right;\">\n",
       "      <th></th>\n",
       "      <th>Rank</th>\n",
       "      <th>Restaurant</th>\n",
       "      <th>Content</th>\n",
       "      <th>Sales</th>\n",
       "      <th>YOY_Sales</th>\n",
       "      <th>Units</th>\n",
       "      <th>YOY_Units</th>\n",
       "      <th>Headquarters</th>\n",
       "      <th>Segment_Category</th>\n",
       "    </tr>\n",
       "  </thead>\n",
       "  <tbody>\n",
       "    <tr>\n",
       "      <th>0</th>\n",
       "      <td>False</td>\n",
       "      <td>False</td>\n",
       "      <td>True</td>\n",
       "      <td>False</td>\n",
       "      <td>False</td>\n",
       "      <td>False</td>\n",
       "      <td>False</td>\n",
       "      <td>True</td>\n",
       "      <td>False</td>\n",
       "    </tr>\n",
       "    <tr>\n",
       "      <th>1</th>\n",
       "      <td>False</td>\n",
       "      <td>False</td>\n",
       "      <td>True</td>\n",
       "      <td>False</td>\n",
       "      <td>False</td>\n",
       "      <td>False</td>\n",
       "      <td>False</td>\n",
       "      <td>True</td>\n",
       "      <td>False</td>\n",
       "    </tr>\n",
       "    <tr>\n",
       "      <th>2</th>\n",
       "      <td>False</td>\n",
       "      <td>False</td>\n",
       "      <td>False</td>\n",
       "      <td>False</td>\n",
       "      <td>False</td>\n",
       "      <td>False</td>\n",
       "      <td>False</td>\n",
       "      <td>True</td>\n",
       "      <td>False</td>\n",
       "    </tr>\n",
       "    <tr>\n",
       "      <th>3</th>\n",
       "      <td>False</td>\n",
       "      <td>False</td>\n",
       "      <td>True</td>\n",
       "      <td>False</td>\n",
       "      <td>False</td>\n",
       "      <td>False</td>\n",
       "      <td>False</td>\n",
       "      <td>True</td>\n",
       "      <td>False</td>\n",
       "    </tr>\n",
       "    <tr>\n",
       "      <th>4</th>\n",
       "      <td>False</td>\n",
       "      <td>False</td>\n",
       "      <td>True</td>\n",
       "      <td>False</td>\n",
       "      <td>False</td>\n",
       "      <td>False</td>\n",
       "      <td>False</td>\n",
       "      <td>True</td>\n",
       "      <td>False</td>\n",
       "    </tr>\n",
       "    <tr>\n",
       "      <th>...</th>\n",
       "      <td>...</td>\n",
       "      <td>...</td>\n",
       "      <td>...</td>\n",
       "      <td>...</td>\n",
       "      <td>...</td>\n",
       "      <td>...</td>\n",
       "      <td>...</td>\n",
       "      <td>...</td>\n",
       "      <td>...</td>\n",
       "    </tr>\n",
       "    <tr>\n",
       "      <th>245</th>\n",
       "      <td>False</td>\n",
       "      <td>False</td>\n",
       "      <td>True</td>\n",
       "      <td>False</td>\n",
       "      <td>False</td>\n",
       "      <td>False</td>\n",
       "      <td>False</td>\n",
       "      <td>True</td>\n",
       "      <td>False</td>\n",
       "    </tr>\n",
       "    <tr>\n",
       "      <th>246</th>\n",
       "      <td>False</td>\n",
       "      <td>False</td>\n",
       "      <td>True</td>\n",
       "      <td>False</td>\n",
       "      <td>False</td>\n",
       "      <td>False</td>\n",
       "      <td>False</td>\n",
       "      <td>True</td>\n",
       "      <td>False</td>\n",
       "    </tr>\n",
       "    <tr>\n",
       "      <th>247</th>\n",
       "      <td>False</td>\n",
       "      <td>False</td>\n",
       "      <td>True</td>\n",
       "      <td>False</td>\n",
       "      <td>False</td>\n",
       "      <td>False</td>\n",
       "      <td>False</td>\n",
       "      <td>True</td>\n",
       "      <td>False</td>\n",
       "    </tr>\n",
       "    <tr>\n",
       "      <th>248</th>\n",
       "      <td>False</td>\n",
       "      <td>False</td>\n",
       "      <td>True</td>\n",
       "      <td>False</td>\n",
       "      <td>False</td>\n",
       "      <td>False</td>\n",
       "      <td>False</td>\n",
       "      <td>True</td>\n",
       "      <td>False</td>\n",
       "    </tr>\n",
       "    <tr>\n",
       "      <th>249</th>\n",
       "      <td>False</td>\n",
       "      <td>False</td>\n",
       "      <td>True</td>\n",
       "      <td>False</td>\n",
       "      <td>False</td>\n",
       "      <td>False</td>\n",
       "      <td>False</td>\n",
       "      <td>True</td>\n",
       "      <td>False</td>\n",
       "    </tr>\n",
       "  </tbody>\n",
       "</table>\n",
       "<p>250 rows × 9 columns</p>\n",
       "</div>"
      ],
      "text/plain": [
       "      Rank  Restaurant  Content  Sales  YOY_Sales  Units  YOY_Units  \\\n",
       "0    False       False     True  False      False  False      False   \n",
       "1    False       False     True  False      False  False      False   \n",
       "2    False       False    False  False      False  False      False   \n",
       "3    False       False     True  False      False  False      False   \n",
       "4    False       False     True  False      False  False      False   \n",
       "..     ...         ...      ...    ...        ...    ...        ...   \n",
       "245  False       False     True  False      False  False      False   \n",
       "246  False       False     True  False      False  False      False   \n",
       "247  False       False     True  False      False  False      False   \n",
       "248  False       False     True  False      False  False      False   \n",
       "249  False       False     True  False      False  False      False   \n",
       "\n",
       "     Headquarters  Segment_Category  \n",
       "0            True             False  \n",
       "1            True             False  \n",
       "2            True             False  \n",
       "3            True             False  \n",
       "4            True             False  \n",
       "..            ...               ...  \n",
       "245          True             False  \n",
       "246          True             False  \n",
       "247          True             False  \n",
       "248          True             False  \n",
       "249          True             False  \n",
       "\n",
       "[250 rows x 9 columns]"
      ]
     },
     "execution_count": 9,
     "metadata": {},
     "output_type": "execute_result"
    }
   ],
   "source": [
    "df.isnull()"
   ]
  },
  {
   "cell_type": "code",
   "execution_count": 10,
   "id": "bc10f614",
   "metadata": {
    "execution": {
     "iopub.execute_input": "2024-10-10T10:25:17.461324Z",
     "iopub.status.busy": "2024-10-10T10:25:17.460351Z",
     "iopub.status.idle": "2024-10-10T10:25:17.470592Z",
     "shell.execute_reply": "2024-10-10T10:25:17.469447Z"
    },
    "papermill": {
     "duration": 0.023178,
     "end_time": "2024-10-10T10:25:17.473223",
     "exception": false,
     "start_time": "2024-10-10T10:25:17.450045",
     "status": "completed"
    },
    "tags": []
   },
   "outputs": [
    {
     "data": {
      "text/plain": [
       "Rank                  0\n",
       "Restaurant            0\n",
       "Content             217\n",
       "Sales                 0\n",
       "YOY_Sales             0\n",
       "Units                 0\n",
       "YOY_Units             0\n",
       "Headquarters        198\n",
       "Segment_Category      0\n",
       "dtype: int64"
      ]
     },
     "execution_count": 10,
     "metadata": {},
     "output_type": "execute_result"
    }
   ],
   "source": [
    "df.isnull().sum()"
   ]
  },
  {
   "cell_type": "code",
   "execution_count": 11,
   "id": "df3ebb83",
   "metadata": {
    "execution": {
     "iopub.execute_input": "2024-10-10T10:25:17.493686Z",
     "iopub.status.busy": "2024-10-10T10:25:17.492562Z",
     "iopub.status.idle": "2024-10-10T10:25:17.502486Z",
     "shell.execute_reply": "2024-10-10T10:25:17.501235Z"
    },
    "papermill": {
     "duration": 0.023143,
     "end_time": "2024-10-10T10:25:17.505145",
     "exception": false,
     "start_time": "2024-10-10T10:25:17.482002",
     "status": "completed"
    },
    "tags": []
   },
   "outputs": [
    {
     "data": {
      "text/plain": [
       "415"
      ]
     },
     "execution_count": 11,
     "metadata": {},
     "output_type": "execute_result"
    }
   ],
   "source": [
    "df.isnull().sum().sum()"
   ]
  },
  {
   "cell_type": "markdown",
   "id": "4ba5116c",
   "metadata": {
    "papermill": {
     "duration": 0.008735,
     "end_time": "2024-10-10T10:25:17.523122",
     "exception": false,
     "start_time": "2024-10-10T10:25:17.514387",
     "status": "completed"
    },
    "tags": []
   },
   "source": [
    "# Dropping rows with NaN values"
   ]
  },
  {
   "cell_type": "code",
   "execution_count": 12,
   "id": "1ba1878f",
   "metadata": {
    "execution": {
     "iopub.execute_input": "2024-10-10T10:25:17.544257Z",
     "iopub.status.busy": "2024-10-10T10:25:17.543739Z",
     "iopub.status.idle": "2024-10-10T10:25:17.551783Z",
     "shell.execute_reply": "2024-10-10T10:25:17.550609Z"
    },
    "papermill": {
     "duration": 0.021271,
     "end_time": "2024-10-10T10:25:17.554151",
     "exception": false,
     "start_time": "2024-10-10T10:25:17.532880",
     "status": "completed"
    },
    "tags": []
   },
   "outputs": [
    {
     "data": {
      "text/plain": [
       "(250, 9)"
      ]
     },
     "execution_count": 12,
     "metadata": {},
     "output_type": "execute_result"
    }
   ],
   "source": [
    "df.shape"
   ]
  },
  {
   "cell_type": "code",
   "execution_count": 13,
   "id": "af016476",
   "metadata": {
    "execution": {
     "iopub.execute_input": "2024-10-10T10:25:17.575842Z",
     "iopub.status.busy": "2024-10-10T10:25:17.574511Z",
     "iopub.status.idle": "2024-10-10T10:25:17.582283Z",
     "shell.execute_reply": "2024-10-10T10:25:17.580878Z"
    },
    "papermill": {
     "duration": 0.021521,
     "end_time": "2024-10-10T10:25:17.585075",
     "exception": false,
     "start_time": "2024-10-10T10:25:17.563554",
     "status": "completed"
    },
    "tags": []
   },
   "outputs": [],
   "source": [
    "df2=df.dropna()"
   ]
  },
  {
   "cell_type": "code",
   "execution_count": 14,
   "id": "2cddbeb5",
   "metadata": {
    "execution": {
     "iopub.execute_input": "2024-10-10T10:25:17.606326Z",
     "iopub.status.busy": "2024-10-10T10:25:17.605241Z",
     "iopub.status.idle": "2024-10-10T10:25:17.613195Z",
     "shell.execute_reply": "2024-10-10T10:25:17.612078Z"
    },
    "papermill": {
     "duration": 0.021326,
     "end_time": "2024-10-10T10:25:17.615687",
     "exception": false,
     "start_time": "2024-10-10T10:25:17.594361",
     "status": "completed"
    },
    "tags": []
   },
   "outputs": [
    {
     "data": {
      "text/plain": [
       "(1, 9)"
      ]
     },
     "execution_count": 14,
     "metadata": {},
     "output_type": "execute_result"
    }
   ],
   "source": [
    "df2.shape"
   ]
  },
  {
   "cell_type": "markdown",
   "id": "43826495",
   "metadata": {
    "papermill": {
     "duration": 0.00879,
     "end_time": "2024-10-10T10:25:17.634614",
     "exception": false,
     "start_time": "2024-10-10T10:25:17.625824",
     "status": "completed"
    },
    "tags": []
   },
   "source": [
    "***End***"
   ]
  }
 ],
 "metadata": {
  "kaggle": {
   "accelerator": "none",
   "dataSources": [
    {
     "datasetId": 5850737,
     "sourceId": 9592391,
     "sourceType": "datasetVersion"
    }
   ],
   "dockerImageVersionId": 30786,
   "isGpuEnabled": false,
   "isInternetEnabled": true,
   "language": "python",
   "sourceType": "notebook"
  },
  "kernelspec": {
   "display_name": "Python 3",
   "language": "python",
   "name": "python3"
  },
  "language_info": {
   "codemirror_mode": {
    "name": "ipython",
    "version": 3
   },
   "file_extension": ".py",
   "mimetype": "text/x-python",
   "name": "python",
   "nbconvert_exporter": "python",
   "pygments_lexer": "ipython3",
   "version": "3.10.14"
  },
  "papermill": {
   "default_parameters": {},
   "duration": 5.533814,
   "end_time": "2024-10-10T10:25:18.367423",
   "environment_variables": {},
   "exception": null,
   "input_path": "__notebook__.ipynb",
   "output_path": "__notebook__.ipynb",
   "parameters": {},
   "start_time": "2024-10-10T10:25:12.833609",
   "version": "2.6.0"
  }
 },
 "nbformat": 4,
 "nbformat_minor": 5
}
