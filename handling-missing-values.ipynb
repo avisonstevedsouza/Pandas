{
 "cells": [
  {
   "cell_type": "code",
   "execution_count": 1,
   "id": "aff4d3a6",
   "metadata": {
    "execution": {
     "iopub.execute_input": "2024-10-10T10:24:43.789690Z",
     "iopub.status.busy": "2024-10-10T10:24:43.789284Z",
     "iopub.status.idle": "2024-10-10T10:24:44.796627Z",
     "shell.execute_reply": "2024-10-10T10:24:44.795458Z"
    },
    "papermill": {
     "duration": 1.016834,
     "end_time": "2024-10-10T10:24:44.799456",
     "exception": false,
     "start_time": "2024-10-10T10:24:43.782622",
     "status": "completed"
    },
    "tags": []
   },
   "outputs": [],
   "source": [
    "import pandas as pd"
   ]
  },
  {
   "cell_type": "code",
   "execution_count": 2,
   "id": "a894b71d",
   "metadata": {
    "execution": {
     "iopub.execute_input": "2024-10-10T10:24:44.811410Z",
     "iopub.status.busy": "2024-10-10T10:24:44.810770Z",
     "iopub.status.idle": "2024-10-10T10:24:44.862405Z",
     "shell.execute_reply": "2024-10-10T10:24:44.861122Z"
    },
    "papermill": {
     "duration": 0.060545,
     "end_time": "2024-10-10T10:24:44.864888",
     "exception": false,
     "start_time": "2024-10-10T10:24:44.804343",
     "status": "completed"
    },
    "tags": []
   },
   "outputs": [
    {
     "data": {
      "text/html": [
       "<div>\n",
       "<style scoped>\n",
       "    .dataframe tbody tr th:only-of-type {\n",
       "        vertical-align: middle;\n",
       "    }\n",
       "\n",
       "    .dataframe tbody tr th {\n",
       "        vertical-align: top;\n",
       "    }\n",
       "\n",
       "    .dataframe thead th {\n",
       "        text-align: right;\n",
       "    }\n",
       "</style>\n",
       "<table border=\"1\" class=\"dataframe\">\n",
       "  <thead>\n",
       "    <tr style=\"text-align: right;\">\n",
       "      <th></th>\n",
       "      <th>Rank</th>\n",
       "      <th>Restaurant</th>\n",
       "      <th>Content</th>\n",
       "      <th>Sales</th>\n",
       "      <th>YOY_Sales</th>\n",
       "      <th>Units</th>\n",
       "      <th>YOY_Units</th>\n",
       "      <th>Headquarters</th>\n",
       "      <th>Segment_Category</th>\n",
       "    </tr>\n",
       "  </thead>\n",
       "  <tbody>\n",
       "    <tr>\n",
       "      <th>0</th>\n",
       "      <td>1</td>\n",
       "      <td>McDonald's</td>\n",
       "      <td>NaN</td>\n",
       "      <td>40412</td>\n",
       "      <td>4.9%</td>\n",
       "      <td>13846</td>\n",
       "      <td>-0.5%</td>\n",
       "      <td>NaN</td>\n",
       "      <td>Quick Service &amp; Burger</td>\n",
       "    </tr>\n",
       "    <tr>\n",
       "      <th>1</th>\n",
       "      <td>2</td>\n",
       "      <td>Starbucks</td>\n",
       "      <td>NaN</td>\n",
       "      <td>21380</td>\n",
       "      <td>8.6%</td>\n",
       "      <td>15049</td>\n",
       "      <td>3.0%</td>\n",
       "      <td>NaN</td>\n",
       "      <td>Quick Service &amp; Coffee Cafe</td>\n",
       "    </tr>\n",
       "    <tr>\n",
       "      <th>2</th>\n",
       "      <td>3</td>\n",
       "      <td>Chick-fil-A</td>\n",
       "      <td>While Popeyes got a lot of the chicken buzz in...</td>\n",
       "      <td>11320</td>\n",
       "      <td>13.0%</td>\n",
       "      <td>2470</td>\n",
       "      <td>5.0%</td>\n",
       "      <td>NaN</td>\n",
       "      <td>Quick Service &amp; Chicken</td>\n",
       "    </tr>\n",
       "    <tr>\n",
       "      <th>3</th>\n",
       "      <td>4</td>\n",
       "      <td>Taco Bell</td>\n",
       "      <td>NaN</td>\n",
       "      <td>11293</td>\n",
       "      <td>9.0%</td>\n",
       "      <td>6766</td>\n",
       "      <td>2.7%</td>\n",
       "      <td>NaN</td>\n",
       "      <td>Quick Service &amp; Mexican</td>\n",
       "    </tr>\n",
       "    <tr>\n",
       "      <th>4</th>\n",
       "      <td>5</td>\n",
       "      <td>Burger King</td>\n",
       "      <td>NaN</td>\n",
       "      <td>10204</td>\n",
       "      <td>2.7%</td>\n",
       "      <td>7346</td>\n",
       "      <td>0.2%</td>\n",
       "      <td>NaN</td>\n",
       "      <td>Quick Service &amp; Burger</td>\n",
       "    </tr>\n",
       "    <tr>\n",
       "      <th>...</th>\n",
       "      <td>...</td>\n",
       "      <td>...</td>\n",
       "      <td>...</td>\n",
       "      <td>...</td>\n",
       "      <td>...</td>\n",
       "      <td>...</td>\n",
       "      <td>...</td>\n",
       "      <td>...</td>\n",
       "      <td>...</td>\n",
       "    </tr>\n",
       "    <tr>\n",
       "      <th>245</th>\n",
       "      <td>246</td>\n",
       "      <td>Rainforest Cafe</td>\n",
       "      <td>NaN</td>\n",
       "      <td>129</td>\n",
       "      <td>-10.4%</td>\n",
       "      <td>18</td>\n",
       "      <td>-5.3%</td>\n",
       "      <td>NaN</td>\n",
       "      <td>Varied Menu</td>\n",
       "    </tr>\n",
       "    <tr>\n",
       "      <th>246</th>\n",
       "      <td>247</td>\n",
       "      <td>PDQ</td>\n",
       "      <td>NaN</td>\n",
       "      <td>127</td>\n",
       "      <td>-5.5%</td>\n",
       "      <td>56</td>\n",
       "      <td>-11.1%</td>\n",
       "      <td>NaN</td>\n",
       "      <td>Chicken</td>\n",
       "    </tr>\n",
       "    <tr>\n",
       "      <th>247</th>\n",
       "      <td>248</td>\n",
       "      <td>Lupe Tortilla</td>\n",
       "      <td>NaN</td>\n",
       "      <td>127</td>\n",
       "      <td>12.1%</td>\n",
       "      <td>25</td>\n",
       "      <td>8.7%</td>\n",
       "      <td>NaN</td>\n",
       "      <td>Mexican</td>\n",
       "    </tr>\n",
       "    <tr>\n",
       "      <th>248</th>\n",
       "      <td>249</td>\n",
       "      <td>Cook-Out Restaurant</td>\n",
       "      <td>NaN</td>\n",
       "      <td>126</td>\n",
       "      <td>10.1%</td>\n",
       "      <td>270</td>\n",
       "      <td>7.1%</td>\n",
       "      <td>NaN</td>\n",
       "      <td>Burger</td>\n",
       "    </tr>\n",
       "    <tr>\n",
       "      <th>249</th>\n",
       "      <td>250</td>\n",
       "      <td>Jollibee</td>\n",
       "      <td>NaN</td>\n",
       "      <td>126</td>\n",
       "      <td>15.2%</td>\n",
       "      <td>40</td>\n",
       "      <td>11.1%</td>\n",
       "      <td>NaN</td>\n",
       "      <td>Chicken</td>\n",
       "    </tr>\n",
       "  </tbody>\n",
       "</table>\n",
       "<p>250 rows × 9 columns</p>\n",
       "</div>"
      ],
      "text/plain": [
       "     Rank           Restaurant  \\\n",
       "0       1           McDonald's   \n",
       "1       2            Starbucks   \n",
       "2       3          Chick-fil-A   \n",
       "3       4            Taco Bell   \n",
       "4       5          Burger King   \n",
       "..    ...                  ...   \n",
       "245   246      Rainforest Cafe   \n",
       "246   247                  PDQ   \n",
       "247   248        Lupe Tortilla   \n",
       "248   249  Cook-Out Restaurant   \n",
       "249   250             Jollibee   \n",
       "\n",
       "                                               Content  Sales YOY_Sales  \\\n",
       "0                                                  NaN  40412      4.9%   \n",
       "1                                                  NaN  21380      8.6%   \n",
       "2    While Popeyes got a lot of the chicken buzz in...  11320     13.0%   \n",
       "3                                                  NaN  11293      9.0%   \n",
       "4                                                  NaN  10204      2.7%   \n",
       "..                                                 ...    ...       ...   \n",
       "245                                                NaN    129    -10.4%   \n",
       "246                                                NaN    127     -5.5%   \n",
       "247                                                NaN    127     12.1%   \n",
       "248                                                NaN    126     10.1%   \n",
       "249                                                NaN    126     15.2%   \n",
       "\n",
       "     Units YOY_Units Headquarters             Segment_Category  \n",
       "0    13846     -0.5%          NaN       Quick Service & Burger  \n",
       "1    15049      3.0%          NaN  Quick Service & Coffee Cafe  \n",
       "2     2470      5.0%          NaN      Quick Service & Chicken  \n",
       "3     6766      2.7%          NaN      Quick Service & Mexican  \n",
       "4     7346      0.2%          NaN       Quick Service & Burger  \n",
       "..     ...       ...          ...                          ...  \n",
       "245     18     -5.3%          NaN                  Varied Menu  \n",
       "246     56    -11.1%          NaN                      Chicken  \n",
       "247     25      8.7%          NaN                      Mexican  \n",
       "248    270      7.1%          NaN                       Burger  \n",
       "249     40     11.1%          NaN                      Chicken  \n",
       "\n",
       "[250 rows x 9 columns]"
      ]
     },
     "execution_count": 2,
     "metadata": {},
     "output_type": "execute_result"
    }
   ],
   "source": [
    "df=pd.read_csv('/kaggle/input/restaurant-dataset/Restaurant.csv')\n",
    "df"
   ]
  },
  {
   "cell_type": "code",
   "execution_count": 3,
   "id": "4c765224",
   "metadata": {
    "execution": {
     "iopub.execute_input": "2024-10-10T10:24:44.876985Z",
     "iopub.status.busy": "2024-10-10T10:24:44.876583Z",
     "iopub.status.idle": "2024-10-10T10:24:44.890579Z",
     "shell.execute_reply": "2024-10-10T10:24:44.889493Z"
    },
    "papermill": {
     "duration": 0.022584,
     "end_time": "2024-10-10T10:24:44.892747",
     "exception": false,
     "start_time": "2024-10-10T10:24:44.870163",
     "status": "completed"
    },
    "tags": []
   },
   "outputs": [
    {
     "data": {
      "text/html": [
       "<div>\n",
       "<style scoped>\n",
       "    .dataframe tbody tr th:only-of-type {\n",
       "        vertical-align: middle;\n",
       "    }\n",
       "\n",
       "    .dataframe tbody tr th {\n",
       "        vertical-align: top;\n",
       "    }\n",
       "\n",
       "    .dataframe thead th {\n",
       "        text-align: right;\n",
       "    }\n",
       "</style>\n",
       "<table border=\"1\" class=\"dataframe\">\n",
       "  <thead>\n",
       "    <tr style=\"text-align: right;\">\n",
       "      <th></th>\n",
       "      <th>Rank</th>\n",
       "      <th>Restaurant</th>\n",
       "      <th>Content</th>\n",
       "      <th>Sales</th>\n",
       "      <th>YOY_Sales</th>\n",
       "      <th>Units</th>\n",
       "      <th>YOY_Units</th>\n",
       "      <th>Headquarters</th>\n",
       "      <th>Segment_Category</th>\n",
       "    </tr>\n",
       "  </thead>\n",
       "  <tbody>\n",
       "    <tr>\n",
       "      <th>0</th>\n",
       "      <td>1</td>\n",
       "      <td>McDonald's</td>\n",
       "      <td>NaN</td>\n",
       "      <td>40412</td>\n",
       "      <td>4.9%</td>\n",
       "      <td>13846</td>\n",
       "      <td>-0.5%</td>\n",
       "      <td>NaN</td>\n",
       "      <td>Quick Service &amp; Burger</td>\n",
       "    </tr>\n",
       "    <tr>\n",
       "      <th>1</th>\n",
       "      <td>2</td>\n",
       "      <td>Starbucks</td>\n",
       "      <td>NaN</td>\n",
       "      <td>21380</td>\n",
       "      <td>8.6%</td>\n",
       "      <td>15049</td>\n",
       "      <td>3.0%</td>\n",
       "      <td>NaN</td>\n",
       "      <td>Quick Service &amp; Coffee Cafe</td>\n",
       "    </tr>\n",
       "    <tr>\n",
       "      <th>2</th>\n",
       "      <td>3</td>\n",
       "      <td>Chick-fil-A</td>\n",
       "      <td>While Popeyes got a lot of the chicken buzz in...</td>\n",
       "      <td>11320</td>\n",
       "      <td>13.0%</td>\n",
       "      <td>2470</td>\n",
       "      <td>5.0%</td>\n",
       "      <td>NaN</td>\n",
       "      <td>Quick Service &amp; Chicken</td>\n",
       "    </tr>\n",
       "    <tr>\n",
       "      <th>3</th>\n",
       "      <td>4</td>\n",
       "      <td>Taco Bell</td>\n",
       "      <td>NaN</td>\n",
       "      <td>11293</td>\n",
       "      <td>9.0%</td>\n",
       "      <td>6766</td>\n",
       "      <td>2.7%</td>\n",
       "      <td>NaN</td>\n",
       "      <td>Quick Service &amp; Mexican</td>\n",
       "    </tr>\n",
       "    <tr>\n",
       "      <th>4</th>\n",
       "      <td>5</td>\n",
       "      <td>Burger King</td>\n",
       "      <td>NaN</td>\n",
       "      <td>10204</td>\n",
       "      <td>2.7%</td>\n",
       "      <td>7346</td>\n",
       "      <td>0.2%</td>\n",
       "      <td>NaN</td>\n",
       "      <td>Quick Service &amp; Burger</td>\n",
       "    </tr>\n",
       "  </tbody>\n",
       "</table>\n",
       "</div>"
      ],
      "text/plain": [
       "   Rank   Restaurant                                            Content  \\\n",
       "0     1   McDonald's                                                NaN   \n",
       "1     2    Starbucks                                                NaN   \n",
       "2     3  Chick-fil-A  While Popeyes got a lot of the chicken buzz in...   \n",
       "3     4    Taco Bell                                                NaN   \n",
       "4     5  Burger King                                                NaN   \n",
       "\n",
       "   Sales YOY_Sales  Units YOY_Units Headquarters             Segment_Category  \n",
       "0  40412      4.9%  13846     -0.5%          NaN       Quick Service & Burger  \n",
       "1  21380      8.6%  15049      3.0%          NaN  Quick Service & Coffee Cafe  \n",
       "2  11320     13.0%   2470      5.0%          NaN      Quick Service & Chicken  \n",
       "3  11293      9.0%   6766      2.7%          NaN      Quick Service & Mexican  \n",
       "4  10204      2.7%   7346      0.2%          NaN       Quick Service & Burger  "
      ]
     },
     "execution_count": 3,
     "metadata": {},
     "output_type": "execute_result"
    }
   ],
   "source": [
    "df.head()"
   ]
  },
  {
   "cell_type": "code",
   "execution_count": 4,
   "id": "1d8729d2",
   "metadata": {
    "execution": {
     "iopub.execute_input": "2024-10-10T10:24:44.905212Z",
     "iopub.status.busy": "2024-10-10T10:24:44.904206Z",
     "iopub.status.idle": "2024-10-10T10:24:44.917689Z",
     "shell.execute_reply": "2024-10-10T10:24:44.916570Z"
    },
    "papermill": {
     "duration": 0.021892,
     "end_time": "2024-10-10T10:24:44.919815",
     "exception": false,
     "start_time": "2024-10-10T10:24:44.897923",
     "status": "completed"
    },
    "tags": []
   },
   "outputs": [
    {
     "data": {
      "text/html": [
       "<div>\n",
       "<style scoped>\n",
       "    .dataframe tbody tr th:only-of-type {\n",
       "        vertical-align: middle;\n",
       "    }\n",
       "\n",
       "    .dataframe tbody tr th {\n",
       "        vertical-align: top;\n",
       "    }\n",
       "\n",
       "    .dataframe thead th {\n",
       "        text-align: right;\n",
       "    }\n",
       "</style>\n",
       "<table border=\"1\" class=\"dataframe\">\n",
       "  <thead>\n",
       "    <tr style=\"text-align: right;\">\n",
       "      <th></th>\n",
       "      <th>Rank</th>\n",
       "      <th>Restaurant</th>\n",
       "      <th>Content</th>\n",
       "      <th>Sales</th>\n",
       "      <th>YOY_Sales</th>\n",
       "      <th>Units</th>\n",
       "      <th>YOY_Units</th>\n",
       "      <th>Headquarters</th>\n",
       "      <th>Segment_Category</th>\n",
       "    </tr>\n",
       "  </thead>\n",
       "  <tbody>\n",
       "    <tr>\n",
       "      <th>245</th>\n",
       "      <td>246</td>\n",
       "      <td>Rainforest Cafe</td>\n",
       "      <td>NaN</td>\n",
       "      <td>129</td>\n",
       "      <td>-10.4%</td>\n",
       "      <td>18</td>\n",
       "      <td>-5.3%</td>\n",
       "      <td>NaN</td>\n",
       "      <td>Varied Menu</td>\n",
       "    </tr>\n",
       "    <tr>\n",
       "      <th>246</th>\n",
       "      <td>247</td>\n",
       "      <td>PDQ</td>\n",
       "      <td>NaN</td>\n",
       "      <td>127</td>\n",
       "      <td>-5.5%</td>\n",
       "      <td>56</td>\n",
       "      <td>-11.1%</td>\n",
       "      <td>NaN</td>\n",
       "      <td>Chicken</td>\n",
       "    </tr>\n",
       "    <tr>\n",
       "      <th>247</th>\n",
       "      <td>248</td>\n",
       "      <td>Lupe Tortilla</td>\n",
       "      <td>NaN</td>\n",
       "      <td>127</td>\n",
       "      <td>12.1%</td>\n",
       "      <td>25</td>\n",
       "      <td>8.7%</td>\n",
       "      <td>NaN</td>\n",
       "      <td>Mexican</td>\n",
       "    </tr>\n",
       "    <tr>\n",
       "      <th>248</th>\n",
       "      <td>249</td>\n",
       "      <td>Cook-Out Restaurant</td>\n",
       "      <td>NaN</td>\n",
       "      <td>126</td>\n",
       "      <td>10.1%</td>\n",
       "      <td>270</td>\n",
       "      <td>7.1%</td>\n",
       "      <td>NaN</td>\n",
       "      <td>Burger</td>\n",
       "    </tr>\n",
       "    <tr>\n",
       "      <th>249</th>\n",
       "      <td>250</td>\n",
       "      <td>Jollibee</td>\n",
       "      <td>NaN</td>\n",
       "      <td>126</td>\n",
       "      <td>15.2%</td>\n",
       "      <td>40</td>\n",
       "      <td>11.1%</td>\n",
       "      <td>NaN</td>\n",
       "      <td>Chicken</td>\n",
       "    </tr>\n",
       "  </tbody>\n",
       "</table>\n",
       "</div>"
      ],
      "text/plain": [
       "     Rank           Restaurant Content  Sales YOY_Sales  Units YOY_Units  \\\n",
       "245   246      Rainforest Cafe     NaN    129    -10.4%     18     -5.3%   \n",
       "246   247                  PDQ     NaN    127     -5.5%     56    -11.1%   \n",
       "247   248        Lupe Tortilla     NaN    127     12.1%     25      8.7%   \n",
       "248   249  Cook-Out Restaurant     NaN    126     10.1%    270      7.1%   \n",
       "249   250             Jollibee     NaN    126     15.2%     40     11.1%   \n",
       "\n",
       "    Headquarters Segment_Category  \n",
       "245          NaN      Varied Menu  \n",
       "246          NaN          Chicken  \n",
       "247          NaN          Mexican  \n",
       "248          NaN           Burger  \n",
       "249          NaN          Chicken  "
      ]
     },
     "execution_count": 4,
     "metadata": {},
     "output_type": "execute_result"
    }
   ],
   "source": [
    "df.tail()"
   ]
  },
  {
   "cell_type": "code",
   "execution_count": 5,
   "id": "d2d00df7",
   "metadata": {
    "execution": {
     "iopub.execute_input": "2024-10-10T10:24:44.932185Z",
     "iopub.status.busy": "2024-10-10T10:24:44.931762Z",
     "iopub.status.idle": "2024-10-10T10:24:44.959397Z",
     "shell.execute_reply": "2024-10-10T10:24:44.958176Z"
    },
    "papermill": {
     "duration": 0.036477,
     "end_time": "2024-10-10T10:24:44.961665",
     "exception": false,
     "start_time": "2024-10-10T10:24:44.925188",
     "status": "completed"
    },
    "tags": []
   },
   "outputs": [
    {
     "data": {
      "text/html": [
       "<div>\n",
       "<style scoped>\n",
       "    .dataframe tbody tr th:only-of-type {\n",
       "        vertical-align: middle;\n",
       "    }\n",
       "\n",
       "    .dataframe tbody tr th {\n",
       "        vertical-align: top;\n",
       "    }\n",
       "\n",
       "    .dataframe thead th {\n",
       "        text-align: right;\n",
       "    }\n",
       "</style>\n",
       "<table border=\"1\" class=\"dataframe\">\n",
       "  <thead>\n",
       "    <tr style=\"text-align: right;\">\n",
       "      <th></th>\n",
       "      <th>Rank</th>\n",
       "      <th>Sales</th>\n",
       "      <th>Units</th>\n",
       "    </tr>\n",
       "  </thead>\n",
       "  <tbody>\n",
       "    <tr>\n",
       "      <th>count</th>\n",
       "      <td>250.000000</td>\n",
       "      <td>250.00000</td>\n",
       "      <td>250.000000</td>\n",
       "    </tr>\n",
       "    <tr>\n",
       "      <th>mean</th>\n",
       "      <td>125.500000</td>\n",
       "      <td>1242.74000</td>\n",
       "      <td>850.076000</td>\n",
       "    </tr>\n",
       "    <tr>\n",
       "      <th>std</th>\n",
       "      <td>72.312977</td>\n",
       "      <td>3365.22882</td>\n",
       "      <td>2296.151659</td>\n",
       "    </tr>\n",
       "    <tr>\n",
       "      <th>min</th>\n",
       "      <td>1.000000</td>\n",
       "      <td>126.00000</td>\n",
       "      <td>13.000000</td>\n",
       "    </tr>\n",
       "    <tr>\n",
       "      <th>25%</th>\n",
       "      <td>63.250000</td>\n",
       "      <td>181.00000</td>\n",
       "      <td>85.000000</td>\n",
       "    </tr>\n",
       "    <tr>\n",
       "      <th>50%</th>\n",
       "      <td>125.500000</td>\n",
       "      <td>330.00000</td>\n",
       "      <td>207.000000</td>\n",
       "    </tr>\n",
       "    <tr>\n",
       "      <th>75%</th>\n",
       "      <td>187.750000</td>\n",
       "      <td>724.75000</td>\n",
       "      <td>555.250000</td>\n",
       "    </tr>\n",
       "    <tr>\n",
       "      <th>max</th>\n",
       "      <td>250.000000</td>\n",
       "      <td>40412.00000</td>\n",
       "      <td>23801.000000</td>\n",
       "    </tr>\n",
       "  </tbody>\n",
       "</table>\n",
       "</div>"
      ],
      "text/plain": [
       "             Rank        Sales         Units\n",
       "count  250.000000    250.00000    250.000000\n",
       "mean   125.500000   1242.74000    850.076000\n",
       "std     72.312977   3365.22882   2296.151659\n",
       "min      1.000000    126.00000     13.000000\n",
       "25%     63.250000    181.00000     85.000000\n",
       "50%    125.500000    330.00000    207.000000\n",
       "75%    187.750000    724.75000    555.250000\n",
       "max    250.000000  40412.00000  23801.000000"
      ]
     },
     "execution_count": 5,
     "metadata": {},
     "output_type": "execute_result"
    }
   ],
   "source": [
    "df.describe()"
   ]
  },
  {
   "cell_type": "code",
   "execution_count": 6,
   "id": "2d6656fa",
   "metadata": {
    "execution": {
     "iopub.execute_input": "2024-10-10T10:24:44.974950Z",
     "iopub.status.busy": "2024-10-10T10:24:44.974177Z",
     "iopub.status.idle": "2024-10-10T10:24:44.980854Z",
     "shell.execute_reply": "2024-10-10T10:24:44.979866Z"
    },
    "papermill": {
     "duration": 0.015609,
     "end_time": "2024-10-10T10:24:44.982952",
     "exception": false,
     "start_time": "2024-10-10T10:24:44.967343",
     "status": "completed"
    },
    "tags": []
   },
   "outputs": [
    {
     "data": {
      "text/plain": [
       "(250, 9)"
      ]
     },
     "execution_count": 6,
     "metadata": {},
     "output_type": "execute_result"
    }
   ],
   "source": [
    "df.shape"
   ]
  },
  {
   "cell_type": "markdown",
   "id": "a6f44214",
   "metadata": {
    "papermill": {
     "duration": 0.006321,
     "end_time": "2024-10-10T10:24:44.995014",
     "exception": false,
     "start_time": "2024-10-10T10:24:44.988693",
     "status": "completed"
    },
    "tags": []
   },
   "source": []
  },
  {
   "cell_type": "code",
   "execution_count": 7,
   "id": "f058e698",
   "metadata": {
    "execution": {
     "iopub.execute_input": "2024-10-10T10:24:45.007973Z",
     "iopub.status.busy": "2024-10-10T10:24:45.007562Z",
     "iopub.status.idle": "2024-10-10T10:24:45.014667Z",
     "shell.execute_reply": "2024-10-10T10:24:45.013478Z"
    },
    "papermill": {
     "duration": 0.016324,
     "end_time": "2024-10-10T10:24:45.016897",
     "exception": false,
     "start_time": "2024-10-10T10:24:45.000573",
     "status": "completed"
    },
    "tags": []
   },
   "outputs": [
    {
     "data": {
      "text/plain": [
       "2250"
      ]
     },
     "execution_count": 7,
     "metadata": {},
     "output_type": "execute_result"
    }
   ],
   "source": [
    "df.size"
   ]
  },
  {
   "cell_type": "code",
   "execution_count": 8,
   "id": "cce3ca1d",
   "metadata": {
    "execution": {
     "iopub.execute_input": "2024-10-10T10:24:45.030953Z",
     "iopub.status.busy": "2024-10-10T10:24:45.030535Z",
     "iopub.status.idle": "2024-10-10T10:24:45.060384Z",
     "shell.execute_reply": "2024-10-10T10:24:45.059193Z"
    },
    "papermill": {
     "duration": 0.04005,
     "end_time": "2024-10-10T10:24:45.062927",
     "exception": false,
     "start_time": "2024-10-10T10:24:45.022877",
     "status": "completed"
    },
    "tags": []
   },
   "outputs": [
    {
     "name": "stdout",
     "output_type": "stream",
     "text": [
      "<class 'pandas.core.frame.DataFrame'>\n",
      "RangeIndex: 250 entries, 0 to 249\n",
      "Data columns (total 9 columns):\n",
      " #   Column            Non-Null Count  Dtype \n",
      "---  ------            --------------  ----- \n",
      " 0   Rank              250 non-null    int64 \n",
      " 1   Restaurant        250 non-null    object\n",
      " 2   Content           33 non-null     object\n",
      " 3   Sales             250 non-null    int64 \n",
      " 4   YOY_Sales         250 non-null    object\n",
      " 5   Units             250 non-null    int64 \n",
      " 6   YOY_Units         250 non-null    object\n",
      " 7   Headquarters      52 non-null     object\n",
      " 8   Segment_Category  250 non-null    object\n",
      "dtypes: int64(3), object(6)\n",
      "memory usage: 17.7+ KB\n"
     ]
    }
   ],
   "source": [
    "df.info()"
   ]
  },
  {
   "cell_type": "markdown",
   "id": "d136062a",
   "metadata": {
    "papermill": {
     "duration": 0.005705,
     "end_time": "2024-10-10T10:24:45.075209",
     "exception": false,
     "start_time": "2024-10-10T10:24:45.069504",
     "status": "completed"
    },
    "tags": []
   },
   "source": [
    "# Finding null values"
   ]
  },
  {
   "cell_type": "code",
   "execution_count": 9,
   "id": "5d3ac1c8",
   "metadata": {
    "execution": {
     "iopub.execute_input": "2024-10-10T10:24:45.088625Z",
     "iopub.status.busy": "2024-10-10T10:24:45.088194Z",
     "iopub.status.idle": "2024-10-10T10:24:45.108154Z",
     "shell.execute_reply": "2024-10-10T10:24:45.107018Z"
    },
    "papermill": {
     "duration": 0.029565,
     "end_time": "2024-10-10T10:24:45.110616",
     "exception": false,
     "start_time": "2024-10-10T10:24:45.081051",
     "status": "completed"
    },
    "tags": []
   },
   "outputs": [
    {
     "data": {
      "text/html": [
       "<div>\n",
       "<style scoped>\n",
       "    .dataframe tbody tr th:only-of-type {\n",
       "        vertical-align: middle;\n",
       "    }\n",
       "\n",
       "    .dataframe tbody tr th {\n",
       "        vertical-align: top;\n",
       "    }\n",
       "\n",
       "    .dataframe thead th {\n",
       "        text-align: right;\n",
       "    }\n",
       "</style>\n",
       "<table border=\"1\" class=\"dataframe\">\n",
       "  <thead>\n",
       "    <tr style=\"text-align: right;\">\n",
       "      <th></th>\n",
       "      <th>Rank</th>\n",
       "      <th>Restaurant</th>\n",
       "      <th>Content</th>\n",
       "      <th>Sales</th>\n",
       "      <th>YOY_Sales</th>\n",
       "      <th>Units</th>\n",
       "      <th>YOY_Units</th>\n",
       "      <th>Headquarters</th>\n",
       "      <th>Segment_Category</th>\n",
       "    </tr>\n",
       "  </thead>\n",
       "  <tbody>\n",
       "    <tr>\n",
       "      <th>0</th>\n",
       "      <td>False</td>\n",
       "      <td>False</td>\n",
       "      <td>True</td>\n",
       "      <td>False</td>\n",
       "      <td>False</td>\n",
       "      <td>False</td>\n",
       "      <td>False</td>\n",
       "      <td>True</td>\n",
       "      <td>False</td>\n",
       "    </tr>\n",
       "    <tr>\n",
       "      <th>1</th>\n",
       "      <td>False</td>\n",
       "      <td>False</td>\n",
       "      <td>True</td>\n",
       "      <td>False</td>\n",
       "      <td>False</td>\n",
       "      <td>False</td>\n",
       "      <td>False</td>\n",
       "      <td>True</td>\n",
       "      <td>False</td>\n",
       "    </tr>\n",
       "    <tr>\n",
       "      <th>2</th>\n",
       "      <td>False</td>\n",
       "      <td>False</td>\n",
       "      <td>False</td>\n",
       "      <td>False</td>\n",
       "      <td>False</td>\n",
       "      <td>False</td>\n",
       "      <td>False</td>\n",
       "      <td>True</td>\n",
       "      <td>False</td>\n",
       "    </tr>\n",
       "    <tr>\n",
       "      <th>3</th>\n",
       "      <td>False</td>\n",
       "      <td>False</td>\n",
       "      <td>True</td>\n",
       "      <td>False</td>\n",
       "      <td>False</td>\n",
       "      <td>False</td>\n",
       "      <td>False</td>\n",
       "      <td>True</td>\n",
       "      <td>False</td>\n",
       "    </tr>\n",
       "    <tr>\n",
       "      <th>4</th>\n",
       "      <td>False</td>\n",
       "      <td>False</td>\n",
       "      <td>True</td>\n",
       "      <td>False</td>\n",
       "      <td>False</td>\n",
       "      <td>False</td>\n",
       "      <td>False</td>\n",
       "      <td>True</td>\n",
       "      <td>False</td>\n",
       "    </tr>\n",
       "    <tr>\n",
       "      <th>...</th>\n",
       "      <td>...</td>\n",
       "      <td>...</td>\n",
       "      <td>...</td>\n",
       "      <td>...</td>\n",
       "      <td>...</td>\n",
       "      <td>...</td>\n",
       "      <td>...</td>\n",
       "      <td>...</td>\n",
       "      <td>...</td>\n",
       "    </tr>\n",
       "    <tr>\n",
       "      <th>245</th>\n",
       "      <td>False</td>\n",
       "      <td>False</td>\n",
       "      <td>True</td>\n",
       "      <td>False</td>\n",
       "      <td>False</td>\n",
       "      <td>False</td>\n",
       "      <td>False</td>\n",
       "      <td>True</td>\n",
       "      <td>False</td>\n",
       "    </tr>\n",
       "    <tr>\n",
       "      <th>246</th>\n",
       "      <td>False</td>\n",
       "      <td>False</td>\n",
       "      <td>True</td>\n",
       "      <td>False</td>\n",
       "      <td>False</td>\n",
       "      <td>False</td>\n",
       "      <td>False</td>\n",
       "      <td>True</td>\n",
       "      <td>False</td>\n",
       "    </tr>\n",
       "    <tr>\n",
       "      <th>247</th>\n",
       "      <td>False</td>\n",
       "      <td>False</td>\n",
       "      <td>True</td>\n",
       "      <td>False</td>\n",
       "      <td>False</td>\n",
       "      <td>False</td>\n",
       "      <td>False</td>\n",
       "      <td>True</td>\n",
       "      <td>False</td>\n",
       "    </tr>\n",
       "    <tr>\n",
       "      <th>248</th>\n",
       "      <td>False</td>\n",
       "      <td>False</td>\n",
       "      <td>True</td>\n",
       "      <td>False</td>\n",
       "      <td>False</td>\n",
       "      <td>False</td>\n",
       "      <td>False</td>\n",
       "      <td>True</td>\n",
       "      <td>False</td>\n",
       "    </tr>\n",
       "    <tr>\n",
       "      <th>249</th>\n",
       "      <td>False</td>\n",
       "      <td>False</td>\n",
       "      <td>True</td>\n",
       "      <td>False</td>\n",
       "      <td>False</td>\n",
       "      <td>False</td>\n",
       "      <td>False</td>\n",
       "      <td>True</td>\n",
       "      <td>False</td>\n",
       "    </tr>\n",
       "  </tbody>\n",
       "</table>\n",
       "<p>250 rows × 9 columns</p>\n",
       "</div>"
      ],
      "text/plain": [
       "      Rank  Restaurant  Content  Sales  YOY_Sales  Units  YOY_Units  \\\n",
       "0    False       False     True  False      False  False      False   \n",
       "1    False       False     True  False      False  False      False   \n",
       "2    False       False    False  False      False  False      False   \n",
       "3    False       False     True  False      False  False      False   \n",
       "4    False       False     True  False      False  False      False   \n",
       "..     ...         ...      ...    ...        ...    ...        ...   \n",
       "245  False       False     True  False      False  False      False   \n",
       "246  False       False     True  False      False  False      False   \n",
       "247  False       False     True  False      False  False      False   \n",
       "248  False       False     True  False      False  False      False   \n",
       "249  False       False     True  False      False  False      False   \n",
       "\n",
       "     Headquarters  Segment_Category  \n",
       "0            True             False  \n",
       "1            True             False  \n",
       "2            True             False  \n",
       "3            True             False  \n",
       "4            True             False  \n",
       "..            ...               ...  \n",
       "245          True             False  \n",
       "246          True             False  \n",
       "247          True             False  \n",
       "248          True             False  \n",
       "249          True             False  \n",
       "\n",
       "[250 rows x 9 columns]"
      ]
     },
     "execution_count": 9,
     "metadata": {},
     "output_type": "execute_result"
    }
   ],
   "source": [
    "df.isnull()"
   ]
  },
  {
   "cell_type": "code",
   "execution_count": 10,
   "id": "577e8589",
   "metadata": {
    "execution": {
     "iopub.execute_input": "2024-10-10T10:24:45.125396Z",
     "iopub.status.busy": "2024-10-10T10:24:45.124825Z",
     "iopub.status.idle": "2024-10-10T10:24:45.133610Z",
     "shell.execute_reply": "2024-10-10T10:24:45.132506Z"
    },
    "papermill": {
     "duration": 0.018403,
     "end_time": "2024-10-10T10:24:45.135784",
     "exception": false,
     "start_time": "2024-10-10T10:24:45.117381",
     "status": "completed"
    },
    "tags": []
   },
   "outputs": [
    {
     "data": {
      "text/plain": [
       "Rank                  0\n",
       "Restaurant            0\n",
       "Content             217\n",
       "Sales                 0\n",
       "YOY_Sales             0\n",
       "Units                 0\n",
       "YOY_Units             0\n",
       "Headquarters        198\n",
       "Segment_Category      0\n",
       "dtype: int64"
      ]
     },
     "execution_count": 10,
     "metadata": {},
     "output_type": "execute_result"
    }
   ],
   "source": [
    "df.isnull().sum()"
   ]
  },
  {
   "cell_type": "code",
   "execution_count": 11,
   "id": "c6b8f508",
   "metadata": {
    "execution": {
     "iopub.execute_input": "2024-10-10T10:24:45.150620Z",
     "iopub.status.busy": "2024-10-10T10:24:45.150185Z",
     "iopub.status.idle": "2024-10-10T10:24:45.158487Z",
     "shell.execute_reply": "2024-10-10T10:24:45.157356Z"
    },
    "papermill": {
     "duration": 0.018737,
     "end_time": "2024-10-10T10:24:45.160866",
     "exception": false,
     "start_time": "2024-10-10T10:24:45.142129",
     "status": "completed"
    },
    "tags": []
   },
   "outputs": [
    {
     "data": {
      "text/plain": [
       "415"
      ]
     },
     "execution_count": 11,
     "metadata": {},
     "output_type": "execute_result"
    }
   ],
   "source": [
    "df.isnull().sum().sum()"
   ]
  },
  {
   "cell_type": "markdown",
   "id": "8cee7911",
   "metadata": {
    "papermill": {
     "duration": 0.00601,
     "end_time": "2024-10-10T10:24:45.173387",
     "exception": false,
     "start_time": "2024-10-10T10:24:45.167377",
     "status": "completed"
    },
    "tags": []
   },
   "source": [
    "# Dropping rows with NaN values"
   ]
  },
  {
   "cell_type": "code",
   "execution_count": 12,
   "id": "3335f516",
   "metadata": {
    "execution": {
     "iopub.execute_input": "2024-10-10T10:24:45.188421Z",
     "iopub.status.busy": "2024-10-10T10:24:45.187993Z",
     "iopub.status.idle": "2024-10-10T10:24:45.195197Z",
     "shell.execute_reply": "2024-10-10T10:24:45.193991Z"
    },
    "papermill": {
     "duration": 0.017439,
     "end_time": "2024-10-10T10:24:45.197592",
     "exception": false,
     "start_time": "2024-10-10T10:24:45.180153",
     "status": "completed"
    },
    "tags": []
   },
   "outputs": [
    {
     "data": {
      "text/plain": [
       "(250, 9)"
      ]
     },
     "execution_count": 12,
     "metadata": {},
     "output_type": "execute_result"
    }
   ],
   "source": [
    "df.shape"
   ]
  },
  {
   "cell_type": "code",
   "execution_count": 13,
   "id": "37c6d512",
   "metadata": {
    "execution": {
     "iopub.execute_input": "2024-10-10T10:24:45.212241Z",
     "iopub.status.busy": "2024-10-10T10:24:45.211824Z",
     "iopub.status.idle": "2024-10-10T10:24:45.218347Z",
     "shell.execute_reply": "2024-10-10T10:24:45.216966Z"
    },
    "papermill": {
     "duration": 0.016784,
     "end_time": "2024-10-10T10:24:45.220905",
     "exception": false,
     "start_time": "2024-10-10T10:24:45.204121",
     "status": "completed"
    },
    "tags": []
   },
   "outputs": [],
   "source": [
    "df2=df.dropna()"
   ]
  },
  {
   "cell_type": "code",
   "execution_count": 14,
   "id": "da1b8bb0",
   "metadata": {
    "execution": {
     "iopub.execute_input": "2024-10-10T10:24:45.235999Z",
     "iopub.status.busy": "2024-10-10T10:24:45.235579Z",
     "iopub.status.idle": "2024-10-10T10:24:45.242637Z",
     "shell.execute_reply": "2024-10-10T10:24:45.241608Z"
    },
    "papermill": {
     "duration": 0.017492,
     "end_time": "2024-10-10T10:24:45.245096",
     "exception": false,
     "start_time": "2024-10-10T10:24:45.227604",
     "status": "completed"
    },
    "tags": []
   },
   "outputs": [
    {
     "data": {
      "text/plain": [
       "(1, 9)"
      ]
     },
     "execution_count": 14,
     "metadata": {},
     "output_type": "execute_result"
    }
   ],
   "source": [
    "df2.shape"
   ]
  },
  {
   "cell_type": "markdown",
   "id": "8d60d891",
   "metadata": {
    "papermill": {
     "duration": 0.007202,
     "end_time": "2024-10-10T10:24:45.259238",
     "exception": false,
     "start_time": "2024-10-10T10:24:45.252036",
     "status": "completed"
    },
    "tags": []
   },
   "source": [
    "***End***"
   ]
  }
 ],
 "metadata": {
  "kaggle": {
   "accelerator": "none",
   "dataSources": [
    {
     "datasetId": 5850737,
     "sourceId": 9592391,
     "sourceType": "datasetVersion"
    }
   ],
   "dockerImageVersionId": 30786,
   "isGpuEnabled": false,
   "isInternetEnabled": true,
   "language": "python",
   "sourceType": "notebook"
  },
  "kernelspec": {
   "display_name": "Python 3",
   "language": "python",
   "name": "python3"
  },
  "language_info": {
   "codemirror_mode": {
    "name": "ipython",
    "version": 3
   },
   "file_extension": ".py",
   "mimetype": "text/x-python",
   "name": "python",
   "nbconvert_exporter": "python",
   "pygments_lexer": "ipython3",
   "version": "3.10.14"
  },
  "papermill": {
   "default_parameters": {},
   "duration": 5.020271,
   "end_time": "2024-10-10T10:24:45.786526",
   "environment_variables": {},
   "exception": null,
   "input_path": "__notebook__.ipynb",
   "output_path": "__notebook__.ipynb",
   "parameters": {},
   "start_time": "2024-10-10T10:24:40.766255",
   "version": "2.6.0"
  }
 },
 "nbformat": 4,
 "nbformat_minor": 5
}
