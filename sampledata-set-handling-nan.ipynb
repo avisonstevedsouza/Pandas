{
 "cells": [
  {
   "cell_type": "code",
   "execution_count": 1,
   "id": "9d4656c5",
   "metadata": {
    "execution": {
     "iopub.execute_input": "2024-10-10T10:49:14.925767Z",
     "iopub.status.busy": "2024-10-10T10:49:14.925292Z",
     "iopub.status.idle": "2024-10-10T10:49:15.862627Z",
     "shell.execute_reply": "2024-10-10T10:49:15.861467Z"
    },
    "papermill": {
     "duration": 0.950096,
     "end_time": "2024-10-10T10:49:15.865572",
     "exception": false,
     "start_time": "2024-10-10T10:49:14.915476",
     "status": "completed"
    },
    "tags": []
   },
   "outputs": [],
   "source": [
    "import pandas as pd"
   ]
  },
  {
   "cell_type": "code",
   "execution_count": 2,
   "id": "808e594d",
   "metadata": {
    "execution": {
     "iopub.execute_input": "2024-10-10T10:49:15.881645Z",
     "iopub.status.busy": "2024-10-10T10:49:15.881083Z",
     "iopub.status.idle": "2024-10-10T10:49:15.929322Z",
     "shell.execute_reply": "2024-10-10T10:49:15.928117Z"
    },
    "papermill": {
     "duration": 0.059217,
     "end_time": "2024-10-10T10:49:15.931988",
     "exception": false,
     "start_time": "2024-10-10T10:49:15.872771",
     "status": "completed"
    },
    "tags": []
   },
   "outputs": [
    {
     "data": {
      "text/html": [
       "<div>\n",
       "<style scoped>\n",
       "    .dataframe tbody tr th:only-of-type {\n",
       "        vertical-align: middle;\n",
       "    }\n",
       "\n",
       "    .dataframe tbody tr th {\n",
       "        vertical-align: top;\n",
       "    }\n",
       "\n",
       "    .dataframe thead th {\n",
       "        text-align: right;\n",
       "    }\n",
       "</style>\n",
       "<table border=\"1\" class=\"dataframe\">\n",
       "  <thead>\n",
       "    <tr style=\"text-align: right;\">\n",
       "      <th></th>\n",
       "      <th>Roll No.</th>\n",
       "      <th>Physics</th>\n",
       "      <th>Chemistry</th>\n",
       "      <th>Maths</th>\n",
       "      <th>Computer</th>\n",
       "    </tr>\n",
       "  </thead>\n",
       "  <tbody>\n",
       "    <tr>\n",
       "      <th>0</th>\n",
       "      <td>1</td>\n",
       "      <td>56.0</td>\n",
       "      <td>57.0</td>\n",
       "      <td>58.0</td>\n",
       "      <td>59.0</td>\n",
       "    </tr>\n",
       "    <tr>\n",
       "      <th>1</th>\n",
       "      <td>2</td>\n",
       "      <td>23.0</td>\n",
       "      <td>24.0</td>\n",
       "      <td>25.0</td>\n",
       "      <td>26.0</td>\n",
       "    </tr>\n",
       "    <tr>\n",
       "      <th>2</th>\n",
       "      <td>3</td>\n",
       "      <td>89.0</td>\n",
       "      <td>25.0</td>\n",
       "      <td>26.0</td>\n",
       "      <td>27.0</td>\n",
       "    </tr>\n",
       "    <tr>\n",
       "      <th>3</th>\n",
       "      <td>4</td>\n",
       "      <td>45.0</td>\n",
       "      <td>26.0</td>\n",
       "      <td>27.0</td>\n",
       "      <td>28.0</td>\n",
       "    </tr>\n",
       "    <tr>\n",
       "      <th>4</th>\n",
       "      <td>5</td>\n",
       "      <td>23.0</td>\n",
       "      <td>27.0</td>\n",
       "      <td>28.0</td>\n",
       "      <td>29.0</td>\n",
       "    </tr>\n",
       "    <tr>\n",
       "      <th>5</th>\n",
       "      <td>6</td>\n",
       "      <td>90.0</td>\n",
       "      <td>NaN</td>\n",
       "      <td>29.0</td>\n",
       "      <td>30.0</td>\n",
       "    </tr>\n",
       "    <tr>\n",
       "      <th>6</th>\n",
       "      <td>7</td>\n",
       "      <td>12.0</td>\n",
       "      <td>13.0</td>\n",
       "      <td>14.0</td>\n",
       "      <td>15.0</td>\n",
       "    </tr>\n",
       "    <tr>\n",
       "      <th>7</th>\n",
       "      <td>8</td>\n",
       "      <td>78.0</td>\n",
       "      <td>14.0</td>\n",
       "      <td>15.0</td>\n",
       "      <td>16.0</td>\n",
       "    </tr>\n",
       "    <tr>\n",
       "      <th>8</th>\n",
       "      <td>9</td>\n",
       "      <td>NaN</td>\n",
       "      <td>15.0</td>\n",
       "      <td>16.0</td>\n",
       "      <td>17.0</td>\n",
       "    </tr>\n",
       "    <tr>\n",
       "      <th>9</th>\n",
       "      <td>10</td>\n",
       "      <td>45.0</td>\n",
       "      <td>16.0</td>\n",
       "      <td>17.0</td>\n",
       "      <td>18.0</td>\n",
       "    </tr>\n",
       "    <tr>\n",
       "      <th>10</th>\n",
       "      <td>11</td>\n",
       "      <td>NaN</td>\n",
       "      <td>17.0</td>\n",
       "      <td>18.0</td>\n",
       "      <td>19.0</td>\n",
       "    </tr>\n",
       "    <tr>\n",
       "      <th>11</th>\n",
       "      <td>12</td>\n",
       "      <td>88.0</td>\n",
       "      <td>NaN</td>\n",
       "      <td>19.0</td>\n",
       "      <td>20.0</td>\n",
       "    </tr>\n",
       "    <tr>\n",
       "      <th>12</th>\n",
       "      <td>13</td>\n",
       "      <td>22.0</td>\n",
       "      <td>23.0</td>\n",
       "      <td>24.0</td>\n",
       "      <td>25.0</td>\n",
       "    </tr>\n",
       "    <tr>\n",
       "      <th>13</th>\n",
       "      <td>14</td>\n",
       "      <td>90.0</td>\n",
       "      <td>NaN</td>\n",
       "      <td>NaN</td>\n",
       "      <td>42.0</td>\n",
       "    </tr>\n",
       "    <tr>\n",
       "      <th>14</th>\n",
       "      <td>15</td>\n",
       "      <td>NaN</td>\n",
       "      <td>43.0</td>\n",
       "      <td>43.0</td>\n",
       "      <td>43.0</td>\n",
       "    </tr>\n",
       "    <tr>\n",
       "      <th>15</th>\n",
       "      <td>16</td>\n",
       "      <td>44.0</td>\n",
       "      <td>44.0</td>\n",
       "      <td>44.0</td>\n",
       "      <td>44.0</td>\n",
       "    </tr>\n",
       "    <tr>\n",
       "      <th>16</th>\n",
       "      <td>17</td>\n",
       "      <td>45.0</td>\n",
       "      <td>45.0</td>\n",
       "      <td>45.0</td>\n",
       "      <td>45.0</td>\n",
       "    </tr>\n",
       "    <tr>\n",
       "      <th>17</th>\n",
       "      <td>18</td>\n",
       "      <td>46.0</td>\n",
       "      <td>46.0</td>\n",
       "      <td>46.0</td>\n",
       "      <td>46.0</td>\n",
       "    </tr>\n",
       "    <tr>\n",
       "      <th>18</th>\n",
       "      <td>19</td>\n",
       "      <td>47.0</td>\n",
       "      <td>47.0</td>\n",
       "      <td>47.0</td>\n",
       "      <td>47.0</td>\n",
       "    </tr>\n",
       "    <tr>\n",
       "      <th>19</th>\n",
       "      <td>20</td>\n",
       "      <td>48.0</td>\n",
       "      <td>48.0</td>\n",
       "      <td>48.0</td>\n",
       "      <td>48.0</td>\n",
       "    </tr>\n",
       "    <tr>\n",
       "      <th>20</th>\n",
       "      <td>21</td>\n",
       "      <td>49.0</td>\n",
       "      <td>49.0</td>\n",
       "      <td>49.0</td>\n",
       "      <td>49.0</td>\n",
       "    </tr>\n",
       "    <tr>\n",
       "      <th>21</th>\n",
       "      <td>22</td>\n",
       "      <td>50.0</td>\n",
       "      <td>50.0</td>\n",
       "      <td>50.0</td>\n",
       "      <td>50.0</td>\n",
       "    </tr>\n",
       "    <tr>\n",
       "      <th>22</th>\n",
       "      <td>23</td>\n",
       "      <td>51.0</td>\n",
       "      <td>51.0</td>\n",
       "      <td>51.0</td>\n",
       "      <td>51.0</td>\n",
       "    </tr>\n",
       "    <tr>\n",
       "      <th>23</th>\n",
       "      <td>24</td>\n",
       "      <td>52.0</td>\n",
       "      <td>52.0</td>\n",
       "      <td>52.0</td>\n",
       "      <td>52.0</td>\n",
       "    </tr>\n",
       "    <tr>\n",
       "      <th>24</th>\n",
       "      <td>25</td>\n",
       "      <td>53.0</td>\n",
       "      <td>NaN</td>\n",
       "      <td>NaN</td>\n",
       "      <td>53.0</td>\n",
       "    </tr>\n",
       "    <tr>\n",
       "      <th>25</th>\n",
       "      <td>26</td>\n",
       "      <td>54.0</td>\n",
       "      <td>33.0</td>\n",
       "      <td>33.0</td>\n",
       "      <td>54.0</td>\n",
       "    </tr>\n",
       "    <tr>\n",
       "      <th>26</th>\n",
       "      <td>27</td>\n",
       "      <td>55.0</td>\n",
       "      <td>34.0</td>\n",
       "      <td>34.0</td>\n",
       "      <td>55.0</td>\n",
       "    </tr>\n",
       "    <tr>\n",
       "      <th>27</th>\n",
       "      <td>28</td>\n",
       "      <td>56.0</td>\n",
       "      <td>35.0</td>\n",
       "      <td>35.0</td>\n",
       "      <td>NaN</td>\n",
       "    </tr>\n",
       "    <tr>\n",
       "      <th>28</th>\n",
       "      <td>29</td>\n",
       "      <td>57.0</td>\n",
       "      <td>36.0</td>\n",
       "      <td>36.0</td>\n",
       "      <td>66.0</td>\n",
       "    </tr>\n",
       "    <tr>\n",
       "      <th>29</th>\n",
       "      <td>30</td>\n",
       "      <td>58.0</td>\n",
       "      <td>37.0</td>\n",
       "      <td>37.0</td>\n",
       "      <td>43.0</td>\n",
       "    </tr>\n",
       "  </tbody>\n",
       "</table>\n",
       "</div>"
      ],
      "text/plain": [
       "    Roll No.  Physics  Chemistry  Maths  Computer\n",
       "0          1     56.0       57.0   58.0      59.0\n",
       "1          2     23.0       24.0   25.0      26.0\n",
       "2          3     89.0       25.0   26.0      27.0\n",
       "3          4     45.0       26.0   27.0      28.0\n",
       "4          5     23.0       27.0   28.0      29.0\n",
       "5          6     90.0        NaN   29.0      30.0\n",
       "6          7     12.0       13.0   14.0      15.0\n",
       "7          8     78.0       14.0   15.0      16.0\n",
       "8          9      NaN       15.0   16.0      17.0\n",
       "9         10     45.0       16.0   17.0      18.0\n",
       "10        11      NaN       17.0   18.0      19.0\n",
       "11        12     88.0        NaN   19.0      20.0\n",
       "12        13     22.0       23.0   24.0      25.0\n",
       "13        14     90.0        NaN    NaN      42.0\n",
       "14        15      NaN       43.0   43.0      43.0\n",
       "15        16     44.0       44.0   44.0      44.0\n",
       "16        17     45.0       45.0   45.0      45.0\n",
       "17        18     46.0       46.0   46.0      46.0\n",
       "18        19     47.0       47.0   47.0      47.0\n",
       "19        20     48.0       48.0   48.0      48.0\n",
       "20        21     49.0       49.0   49.0      49.0\n",
       "21        22     50.0       50.0   50.0      50.0\n",
       "22        23     51.0       51.0   51.0      51.0\n",
       "23        24     52.0       52.0   52.0      52.0\n",
       "24        25     53.0        NaN    NaN      53.0\n",
       "25        26     54.0       33.0   33.0      54.0\n",
       "26        27     55.0       34.0   34.0      55.0\n",
       "27        28     56.0       35.0   35.0       NaN\n",
       "28        29     57.0       36.0   36.0      66.0\n",
       "29        30     58.0       37.0   37.0      43.0"
      ]
     },
     "execution_count": 2,
     "metadata": {},
     "output_type": "execute_result"
    }
   ],
   "source": [
    "df=pd.read_csv('/kaggle/input/sampledata/sample.csv')\n",
    "df"
   ]
  },
  {
   "cell_type": "code",
   "execution_count": 3,
   "id": "eb4e0925",
   "metadata": {
    "execution": {
     "iopub.execute_input": "2024-10-10T10:49:15.948698Z",
     "iopub.status.busy": "2024-10-10T10:49:15.948242Z",
     "iopub.status.idle": "2024-10-10T10:49:15.964282Z",
     "shell.execute_reply": "2024-10-10T10:49:15.963036Z"
    },
    "papermill": {
     "duration": 0.027309,
     "end_time": "2024-10-10T10:49:15.966875",
     "exception": false,
     "start_time": "2024-10-10T10:49:15.939566",
     "status": "completed"
    },
    "tags": []
   },
   "outputs": [
    {
     "data": {
      "text/html": [
       "<div>\n",
       "<style scoped>\n",
       "    .dataframe tbody tr th:only-of-type {\n",
       "        vertical-align: middle;\n",
       "    }\n",
       "\n",
       "    .dataframe tbody tr th {\n",
       "        vertical-align: top;\n",
       "    }\n",
       "\n",
       "    .dataframe thead th {\n",
       "        text-align: right;\n",
       "    }\n",
       "</style>\n",
       "<table border=\"1\" class=\"dataframe\">\n",
       "  <thead>\n",
       "    <tr style=\"text-align: right;\">\n",
       "      <th></th>\n",
       "      <th>Roll No.</th>\n",
       "      <th>Physics</th>\n",
       "      <th>Chemistry</th>\n",
       "      <th>Maths</th>\n",
       "      <th>Computer</th>\n",
       "    </tr>\n",
       "  </thead>\n",
       "  <tbody>\n",
       "    <tr>\n",
       "      <th>0</th>\n",
       "      <td>1</td>\n",
       "      <td>56.0</td>\n",
       "      <td>57.0</td>\n",
       "      <td>58.0</td>\n",
       "      <td>59.0</td>\n",
       "    </tr>\n",
       "    <tr>\n",
       "      <th>1</th>\n",
       "      <td>2</td>\n",
       "      <td>23.0</td>\n",
       "      <td>24.0</td>\n",
       "      <td>25.0</td>\n",
       "      <td>26.0</td>\n",
       "    </tr>\n",
       "    <tr>\n",
       "      <th>2</th>\n",
       "      <td>3</td>\n",
       "      <td>89.0</td>\n",
       "      <td>25.0</td>\n",
       "      <td>26.0</td>\n",
       "      <td>27.0</td>\n",
       "    </tr>\n",
       "    <tr>\n",
       "      <th>3</th>\n",
       "      <td>4</td>\n",
       "      <td>45.0</td>\n",
       "      <td>26.0</td>\n",
       "      <td>27.0</td>\n",
       "      <td>28.0</td>\n",
       "    </tr>\n",
       "    <tr>\n",
       "      <th>4</th>\n",
       "      <td>5</td>\n",
       "      <td>23.0</td>\n",
       "      <td>27.0</td>\n",
       "      <td>28.0</td>\n",
       "      <td>29.0</td>\n",
       "    </tr>\n",
       "  </tbody>\n",
       "</table>\n",
       "</div>"
      ],
      "text/plain": [
       "   Roll No.  Physics  Chemistry  Maths  Computer\n",
       "0         1     56.0       57.0   58.0      59.0\n",
       "1         2     23.0       24.0   25.0      26.0\n",
       "2         3     89.0       25.0   26.0      27.0\n",
       "3         4     45.0       26.0   27.0      28.0\n",
       "4         5     23.0       27.0   28.0      29.0"
      ]
     },
     "execution_count": 3,
     "metadata": {},
     "output_type": "execute_result"
    }
   ],
   "source": [
    "df.head()"
   ]
  },
  {
   "cell_type": "code",
   "execution_count": 4,
   "id": "0ef1e2ec",
   "metadata": {
    "execution": {
     "iopub.execute_input": "2024-10-10T10:49:15.985883Z",
     "iopub.status.busy": "2024-10-10T10:49:15.984443Z",
     "iopub.status.idle": "2024-10-10T10:49:15.999708Z",
     "shell.execute_reply": "2024-10-10T10:49:15.998368Z"
    },
    "papermill": {
     "duration": 0.027949,
     "end_time": "2024-10-10T10:49:16.002318",
     "exception": false,
     "start_time": "2024-10-10T10:49:15.974369",
     "status": "completed"
    },
    "tags": []
   },
   "outputs": [
    {
     "data": {
      "text/html": [
       "<div>\n",
       "<style scoped>\n",
       "    .dataframe tbody tr th:only-of-type {\n",
       "        vertical-align: middle;\n",
       "    }\n",
       "\n",
       "    .dataframe tbody tr th {\n",
       "        vertical-align: top;\n",
       "    }\n",
       "\n",
       "    .dataframe thead th {\n",
       "        text-align: right;\n",
       "    }\n",
       "</style>\n",
       "<table border=\"1\" class=\"dataframe\">\n",
       "  <thead>\n",
       "    <tr style=\"text-align: right;\">\n",
       "      <th></th>\n",
       "      <th>Roll No.</th>\n",
       "      <th>Physics</th>\n",
       "      <th>Chemistry</th>\n",
       "      <th>Maths</th>\n",
       "      <th>Computer</th>\n",
       "    </tr>\n",
       "  </thead>\n",
       "  <tbody>\n",
       "    <tr>\n",
       "      <th>25</th>\n",
       "      <td>26</td>\n",
       "      <td>54.0</td>\n",
       "      <td>33.0</td>\n",
       "      <td>33.0</td>\n",
       "      <td>54.0</td>\n",
       "    </tr>\n",
       "    <tr>\n",
       "      <th>26</th>\n",
       "      <td>27</td>\n",
       "      <td>55.0</td>\n",
       "      <td>34.0</td>\n",
       "      <td>34.0</td>\n",
       "      <td>55.0</td>\n",
       "    </tr>\n",
       "    <tr>\n",
       "      <th>27</th>\n",
       "      <td>28</td>\n",
       "      <td>56.0</td>\n",
       "      <td>35.0</td>\n",
       "      <td>35.0</td>\n",
       "      <td>NaN</td>\n",
       "    </tr>\n",
       "    <tr>\n",
       "      <th>28</th>\n",
       "      <td>29</td>\n",
       "      <td>57.0</td>\n",
       "      <td>36.0</td>\n",
       "      <td>36.0</td>\n",
       "      <td>66.0</td>\n",
       "    </tr>\n",
       "    <tr>\n",
       "      <th>29</th>\n",
       "      <td>30</td>\n",
       "      <td>58.0</td>\n",
       "      <td>37.0</td>\n",
       "      <td>37.0</td>\n",
       "      <td>43.0</td>\n",
       "    </tr>\n",
       "  </tbody>\n",
       "</table>\n",
       "</div>"
      ],
      "text/plain": [
       "    Roll No.  Physics  Chemistry  Maths  Computer\n",
       "25        26     54.0       33.0   33.0      54.0\n",
       "26        27     55.0       34.0   34.0      55.0\n",
       "27        28     56.0       35.0   35.0       NaN\n",
       "28        29     57.0       36.0   36.0      66.0\n",
       "29        30     58.0       37.0   37.0      43.0"
      ]
     },
     "execution_count": 4,
     "metadata": {},
     "output_type": "execute_result"
    }
   ],
   "source": [
    "df.tail()"
   ]
  },
  {
   "cell_type": "code",
   "execution_count": 5,
   "id": "9883be76",
   "metadata": {
    "execution": {
     "iopub.execute_input": "2024-10-10T10:49:16.019433Z",
     "iopub.status.busy": "2024-10-10T10:49:16.018998Z",
     "iopub.status.idle": "2024-10-10T10:49:16.052316Z",
     "shell.execute_reply": "2024-10-10T10:49:16.050944Z"
    },
    "papermill": {
     "duration": 0.045714,
     "end_time": "2024-10-10T10:49:16.055831",
     "exception": false,
     "start_time": "2024-10-10T10:49:16.010117",
     "status": "completed"
    },
    "tags": []
   },
   "outputs": [
    {
     "data": {
      "text/html": [
       "<div>\n",
       "<style scoped>\n",
       "    .dataframe tbody tr th:only-of-type {\n",
       "        vertical-align: middle;\n",
       "    }\n",
       "\n",
       "    .dataframe tbody tr th {\n",
       "        vertical-align: top;\n",
       "    }\n",
       "\n",
       "    .dataframe thead th {\n",
       "        text-align: right;\n",
       "    }\n",
       "</style>\n",
       "<table border=\"1\" class=\"dataframe\">\n",
       "  <thead>\n",
       "    <tr style=\"text-align: right;\">\n",
       "      <th></th>\n",
       "      <th>Roll No.</th>\n",
       "      <th>Physics</th>\n",
       "      <th>Chemistry</th>\n",
       "      <th>Maths</th>\n",
       "      <th>Computer</th>\n",
       "    </tr>\n",
       "  </thead>\n",
       "  <tbody>\n",
       "    <tr>\n",
       "      <th>count</th>\n",
       "      <td>30.000000</td>\n",
       "      <td>27.000000</td>\n",
       "      <td>26.000000</td>\n",
       "      <td>28.00000</td>\n",
       "      <td>29.000000</td>\n",
       "    </tr>\n",
       "    <tr>\n",
       "      <th>mean</th>\n",
       "      <td>15.500000</td>\n",
       "      <td>52.814815</td>\n",
       "      <td>34.884615</td>\n",
       "      <td>34.50000</td>\n",
       "      <td>38.517241</td>\n",
       "    </tr>\n",
       "    <tr>\n",
       "      <th>std</th>\n",
       "      <td>8.803408</td>\n",
       "      <td>20.382944</td>\n",
       "      <td>13.650866</td>\n",
       "      <td>13.19231</td>\n",
       "      <td>14.917920</td>\n",
       "    </tr>\n",
       "    <tr>\n",
       "      <th>min</th>\n",
       "      <td>1.000000</td>\n",
       "      <td>12.000000</td>\n",
       "      <td>13.000000</td>\n",
       "      <td>14.00000</td>\n",
       "      <td>15.000000</td>\n",
       "    </tr>\n",
       "    <tr>\n",
       "      <th>25%</th>\n",
       "      <td>8.250000</td>\n",
       "      <td>45.000000</td>\n",
       "      <td>24.250000</td>\n",
       "      <td>24.75000</td>\n",
       "      <td>26.000000</td>\n",
       "    </tr>\n",
       "    <tr>\n",
       "      <th>50%</th>\n",
       "      <td>15.500000</td>\n",
       "      <td>51.000000</td>\n",
       "      <td>35.500000</td>\n",
       "      <td>34.50000</td>\n",
       "      <td>43.000000</td>\n",
       "    </tr>\n",
       "    <tr>\n",
       "      <th>75%</th>\n",
       "      <td>22.750000</td>\n",
       "      <td>56.500000</td>\n",
       "      <td>46.750000</td>\n",
       "      <td>46.25000</td>\n",
       "      <td>50.000000</td>\n",
       "    </tr>\n",
       "    <tr>\n",
       "      <th>max</th>\n",
       "      <td>30.000000</td>\n",
       "      <td>90.000000</td>\n",
       "      <td>57.000000</td>\n",
       "      <td>58.00000</td>\n",
       "      <td>66.000000</td>\n",
       "    </tr>\n",
       "  </tbody>\n",
       "</table>\n",
       "</div>"
      ],
      "text/plain": [
       "        Roll No.    Physics  Chemistry     Maths   Computer\n",
       "count  30.000000  27.000000  26.000000  28.00000  29.000000\n",
       "mean   15.500000  52.814815  34.884615  34.50000  38.517241\n",
       "std     8.803408  20.382944  13.650866  13.19231  14.917920\n",
       "min     1.000000  12.000000  13.000000  14.00000  15.000000\n",
       "25%     8.250000  45.000000  24.250000  24.75000  26.000000\n",
       "50%    15.500000  51.000000  35.500000  34.50000  43.000000\n",
       "75%    22.750000  56.500000  46.750000  46.25000  50.000000\n",
       "max    30.000000  90.000000  57.000000  58.00000  66.000000"
      ]
     },
     "execution_count": 5,
     "metadata": {},
     "output_type": "execute_result"
    }
   ],
   "source": [
    "df.describe()"
   ]
  },
  {
   "cell_type": "code",
   "execution_count": 6,
   "id": "e2dfbc4f",
   "metadata": {
    "execution": {
     "iopub.execute_input": "2024-10-10T10:49:16.075503Z",
     "iopub.status.busy": "2024-10-10T10:49:16.075066Z",
     "iopub.status.idle": "2024-10-10T10:49:16.101187Z",
     "shell.execute_reply": "2024-10-10T10:49:16.099836Z"
    },
    "papermill": {
     "duration": 0.039244,
     "end_time": "2024-10-10T10:49:16.103728",
     "exception": false,
     "start_time": "2024-10-10T10:49:16.064484",
     "status": "completed"
    },
    "tags": []
   },
   "outputs": [
    {
     "name": "stdout",
     "output_type": "stream",
     "text": [
      "<class 'pandas.core.frame.DataFrame'>\n",
      "RangeIndex: 30 entries, 0 to 29\n",
      "Data columns (total 5 columns):\n",
      " #   Column     Non-Null Count  Dtype  \n",
      "---  ------     --------------  -----  \n",
      " 0   Roll No.   30 non-null     int64  \n",
      " 1   Physics    27 non-null     float64\n",
      " 2   Chemistry  26 non-null     float64\n",
      " 3   Maths      28 non-null     float64\n",
      " 4   Computer   29 non-null     float64\n",
      "dtypes: float64(4), int64(1)\n",
      "memory usage: 1.3 KB\n"
     ]
    }
   ],
   "source": [
    "df.info()"
   ]
  },
  {
   "cell_type": "code",
   "execution_count": 7,
   "id": "b48477ae",
   "metadata": {
    "execution": {
     "iopub.execute_input": "2024-10-10T10:49:16.121965Z",
     "iopub.status.busy": "2024-10-10T10:49:16.121096Z",
     "iopub.status.idle": "2024-10-10T10:49:16.128790Z",
     "shell.execute_reply": "2024-10-10T10:49:16.127648Z"
    },
    "papermill": {
     "duration": 0.019627,
     "end_time": "2024-10-10T10:49:16.131416",
     "exception": false,
     "start_time": "2024-10-10T10:49:16.111789",
     "status": "completed"
    },
    "tags": []
   },
   "outputs": [
    {
     "data": {
      "text/plain": [
       "(30, 5)"
      ]
     },
     "execution_count": 7,
     "metadata": {},
     "output_type": "execute_result"
    }
   ],
   "source": [
    "df.shape"
   ]
  },
  {
   "cell_type": "code",
   "execution_count": 8,
   "id": "5c8e3818",
   "metadata": {
    "execution": {
     "iopub.execute_input": "2024-10-10T10:49:16.149713Z",
     "iopub.status.busy": "2024-10-10T10:49:16.149263Z",
     "iopub.status.idle": "2024-10-10T10:49:16.157083Z",
     "shell.execute_reply": "2024-10-10T10:49:16.155784Z"
    },
    "papermill": {
     "duration": 0.019924,
     "end_time": "2024-10-10T10:49:16.159714",
     "exception": false,
     "start_time": "2024-10-10T10:49:16.139790",
     "status": "completed"
    },
    "tags": []
   },
   "outputs": [
    {
     "data": {
      "text/plain": [
       "150"
      ]
     },
     "execution_count": 8,
     "metadata": {},
     "output_type": "execute_result"
    }
   ],
   "source": [
    "df.size"
   ]
  },
  {
   "cell_type": "code",
   "execution_count": 9,
   "id": "51676ccc",
   "metadata": {
    "execution": {
     "iopub.execute_input": "2024-10-10T10:49:16.178088Z",
     "iopub.status.busy": "2024-10-10T10:49:16.177637Z",
     "iopub.status.idle": "2024-10-10T10:49:16.195031Z",
     "shell.execute_reply": "2024-10-10T10:49:16.193782Z"
    },
    "papermill": {
     "duration": 0.029702,
     "end_time": "2024-10-10T10:49:16.197730",
     "exception": false,
     "start_time": "2024-10-10T10:49:16.168028",
     "status": "completed"
    },
    "tags": []
   },
   "outputs": [
    {
     "data": {
      "text/html": [
       "<div>\n",
       "<style scoped>\n",
       "    .dataframe tbody tr th:only-of-type {\n",
       "        vertical-align: middle;\n",
       "    }\n",
       "\n",
       "    .dataframe tbody tr th {\n",
       "        vertical-align: top;\n",
       "    }\n",
       "\n",
       "    .dataframe thead th {\n",
       "        text-align: right;\n",
       "    }\n",
       "</style>\n",
       "<table border=\"1\" class=\"dataframe\">\n",
       "  <thead>\n",
       "    <tr style=\"text-align: right;\">\n",
       "      <th></th>\n",
       "      <th>Roll No.</th>\n",
       "      <th>Physics</th>\n",
       "      <th>Chemistry</th>\n",
       "      <th>Maths</th>\n",
       "      <th>Computer</th>\n",
       "    </tr>\n",
       "  </thead>\n",
       "  <tbody>\n",
       "    <tr>\n",
       "      <th>0</th>\n",
       "      <td>False</td>\n",
       "      <td>False</td>\n",
       "      <td>False</td>\n",
       "      <td>False</td>\n",
       "      <td>False</td>\n",
       "    </tr>\n",
       "    <tr>\n",
       "      <th>1</th>\n",
       "      <td>False</td>\n",
       "      <td>False</td>\n",
       "      <td>False</td>\n",
       "      <td>False</td>\n",
       "      <td>False</td>\n",
       "    </tr>\n",
       "    <tr>\n",
       "      <th>2</th>\n",
       "      <td>False</td>\n",
       "      <td>False</td>\n",
       "      <td>False</td>\n",
       "      <td>False</td>\n",
       "      <td>False</td>\n",
       "    </tr>\n",
       "    <tr>\n",
       "      <th>3</th>\n",
       "      <td>False</td>\n",
       "      <td>False</td>\n",
       "      <td>False</td>\n",
       "      <td>False</td>\n",
       "      <td>False</td>\n",
       "    </tr>\n",
       "    <tr>\n",
       "      <th>4</th>\n",
       "      <td>False</td>\n",
       "      <td>False</td>\n",
       "      <td>False</td>\n",
       "      <td>False</td>\n",
       "      <td>False</td>\n",
       "    </tr>\n",
       "    <tr>\n",
       "      <th>5</th>\n",
       "      <td>False</td>\n",
       "      <td>False</td>\n",
       "      <td>True</td>\n",
       "      <td>False</td>\n",
       "      <td>False</td>\n",
       "    </tr>\n",
       "    <tr>\n",
       "      <th>6</th>\n",
       "      <td>False</td>\n",
       "      <td>False</td>\n",
       "      <td>False</td>\n",
       "      <td>False</td>\n",
       "      <td>False</td>\n",
       "    </tr>\n",
       "    <tr>\n",
       "      <th>7</th>\n",
       "      <td>False</td>\n",
       "      <td>False</td>\n",
       "      <td>False</td>\n",
       "      <td>False</td>\n",
       "      <td>False</td>\n",
       "    </tr>\n",
       "    <tr>\n",
       "      <th>8</th>\n",
       "      <td>False</td>\n",
       "      <td>True</td>\n",
       "      <td>False</td>\n",
       "      <td>False</td>\n",
       "      <td>False</td>\n",
       "    </tr>\n",
       "    <tr>\n",
       "      <th>9</th>\n",
       "      <td>False</td>\n",
       "      <td>False</td>\n",
       "      <td>False</td>\n",
       "      <td>False</td>\n",
       "      <td>False</td>\n",
       "    </tr>\n",
       "    <tr>\n",
       "      <th>10</th>\n",
       "      <td>False</td>\n",
       "      <td>True</td>\n",
       "      <td>False</td>\n",
       "      <td>False</td>\n",
       "      <td>False</td>\n",
       "    </tr>\n",
       "    <tr>\n",
       "      <th>11</th>\n",
       "      <td>False</td>\n",
       "      <td>False</td>\n",
       "      <td>True</td>\n",
       "      <td>False</td>\n",
       "      <td>False</td>\n",
       "    </tr>\n",
       "    <tr>\n",
       "      <th>12</th>\n",
       "      <td>False</td>\n",
       "      <td>False</td>\n",
       "      <td>False</td>\n",
       "      <td>False</td>\n",
       "      <td>False</td>\n",
       "    </tr>\n",
       "    <tr>\n",
       "      <th>13</th>\n",
       "      <td>False</td>\n",
       "      <td>False</td>\n",
       "      <td>True</td>\n",
       "      <td>True</td>\n",
       "      <td>False</td>\n",
       "    </tr>\n",
       "    <tr>\n",
       "      <th>14</th>\n",
       "      <td>False</td>\n",
       "      <td>True</td>\n",
       "      <td>False</td>\n",
       "      <td>False</td>\n",
       "      <td>False</td>\n",
       "    </tr>\n",
       "    <tr>\n",
       "      <th>15</th>\n",
       "      <td>False</td>\n",
       "      <td>False</td>\n",
       "      <td>False</td>\n",
       "      <td>False</td>\n",
       "      <td>False</td>\n",
       "    </tr>\n",
       "    <tr>\n",
       "      <th>16</th>\n",
       "      <td>False</td>\n",
       "      <td>False</td>\n",
       "      <td>False</td>\n",
       "      <td>False</td>\n",
       "      <td>False</td>\n",
       "    </tr>\n",
       "    <tr>\n",
       "      <th>17</th>\n",
       "      <td>False</td>\n",
       "      <td>False</td>\n",
       "      <td>False</td>\n",
       "      <td>False</td>\n",
       "      <td>False</td>\n",
       "    </tr>\n",
       "    <tr>\n",
       "      <th>18</th>\n",
       "      <td>False</td>\n",
       "      <td>False</td>\n",
       "      <td>False</td>\n",
       "      <td>False</td>\n",
       "      <td>False</td>\n",
       "    </tr>\n",
       "    <tr>\n",
       "      <th>19</th>\n",
       "      <td>False</td>\n",
       "      <td>False</td>\n",
       "      <td>False</td>\n",
       "      <td>False</td>\n",
       "      <td>False</td>\n",
       "    </tr>\n",
       "    <tr>\n",
       "      <th>20</th>\n",
       "      <td>False</td>\n",
       "      <td>False</td>\n",
       "      <td>False</td>\n",
       "      <td>False</td>\n",
       "      <td>False</td>\n",
       "    </tr>\n",
       "    <tr>\n",
       "      <th>21</th>\n",
       "      <td>False</td>\n",
       "      <td>False</td>\n",
       "      <td>False</td>\n",
       "      <td>False</td>\n",
       "      <td>False</td>\n",
       "    </tr>\n",
       "    <tr>\n",
       "      <th>22</th>\n",
       "      <td>False</td>\n",
       "      <td>False</td>\n",
       "      <td>False</td>\n",
       "      <td>False</td>\n",
       "      <td>False</td>\n",
       "    </tr>\n",
       "    <tr>\n",
       "      <th>23</th>\n",
       "      <td>False</td>\n",
       "      <td>False</td>\n",
       "      <td>False</td>\n",
       "      <td>False</td>\n",
       "      <td>False</td>\n",
       "    </tr>\n",
       "    <tr>\n",
       "      <th>24</th>\n",
       "      <td>False</td>\n",
       "      <td>False</td>\n",
       "      <td>True</td>\n",
       "      <td>True</td>\n",
       "      <td>False</td>\n",
       "    </tr>\n",
       "    <tr>\n",
       "      <th>25</th>\n",
       "      <td>False</td>\n",
       "      <td>False</td>\n",
       "      <td>False</td>\n",
       "      <td>False</td>\n",
       "      <td>False</td>\n",
       "    </tr>\n",
       "    <tr>\n",
       "      <th>26</th>\n",
       "      <td>False</td>\n",
       "      <td>False</td>\n",
       "      <td>False</td>\n",
       "      <td>False</td>\n",
       "      <td>False</td>\n",
       "    </tr>\n",
       "    <tr>\n",
       "      <th>27</th>\n",
       "      <td>False</td>\n",
       "      <td>False</td>\n",
       "      <td>False</td>\n",
       "      <td>False</td>\n",
       "      <td>True</td>\n",
       "    </tr>\n",
       "    <tr>\n",
       "      <th>28</th>\n",
       "      <td>False</td>\n",
       "      <td>False</td>\n",
       "      <td>False</td>\n",
       "      <td>False</td>\n",
       "      <td>False</td>\n",
       "    </tr>\n",
       "    <tr>\n",
       "      <th>29</th>\n",
       "      <td>False</td>\n",
       "      <td>False</td>\n",
       "      <td>False</td>\n",
       "      <td>False</td>\n",
       "      <td>False</td>\n",
       "    </tr>\n",
       "  </tbody>\n",
       "</table>\n",
       "</div>"
      ],
      "text/plain": [
       "    Roll No.  Physics  Chemistry  Maths  Computer\n",
       "0      False    False      False  False     False\n",
       "1      False    False      False  False     False\n",
       "2      False    False      False  False     False\n",
       "3      False    False      False  False     False\n",
       "4      False    False      False  False     False\n",
       "5      False    False       True  False     False\n",
       "6      False    False      False  False     False\n",
       "7      False    False      False  False     False\n",
       "8      False     True      False  False     False\n",
       "9      False    False      False  False     False\n",
       "10     False     True      False  False     False\n",
       "11     False    False       True  False     False\n",
       "12     False    False      False  False     False\n",
       "13     False    False       True   True     False\n",
       "14     False     True      False  False     False\n",
       "15     False    False      False  False     False\n",
       "16     False    False      False  False     False\n",
       "17     False    False      False  False     False\n",
       "18     False    False      False  False     False\n",
       "19     False    False      False  False     False\n",
       "20     False    False      False  False     False\n",
       "21     False    False      False  False     False\n",
       "22     False    False      False  False     False\n",
       "23     False    False      False  False     False\n",
       "24     False    False       True   True     False\n",
       "25     False    False      False  False     False\n",
       "26     False    False      False  False     False\n",
       "27     False    False      False  False      True\n",
       "28     False    False      False  False     False\n",
       "29     False    False      False  False     False"
      ]
     },
     "execution_count": 9,
     "metadata": {},
     "output_type": "execute_result"
    }
   ],
   "source": [
    "df.isnull()"
   ]
  },
  {
   "cell_type": "code",
   "execution_count": 10,
   "id": "f6558d2d",
   "metadata": {
    "execution": {
     "iopub.execute_input": "2024-10-10T10:49:16.217162Z",
     "iopub.status.busy": "2024-10-10T10:49:16.216713Z",
     "iopub.status.idle": "2024-10-10T10:49:16.226269Z",
     "shell.execute_reply": "2024-10-10T10:49:16.225028Z"
    },
    "papermill": {
     "duration": 0.022266,
     "end_time": "2024-10-10T10:49:16.228779",
     "exception": false,
     "start_time": "2024-10-10T10:49:16.206513",
     "status": "completed"
    },
    "tags": []
   },
   "outputs": [
    {
     "data": {
      "text/plain": [
       "Roll No.     0\n",
       "Physics      3\n",
       "Chemistry    4\n",
       "Maths        2\n",
       "Computer     1\n",
       "dtype: int64"
      ]
     },
     "execution_count": 10,
     "metadata": {},
     "output_type": "execute_result"
    }
   ],
   "source": [
    "df.isnull().sum()"
   ]
  },
  {
   "cell_type": "code",
   "execution_count": 11,
   "id": "581c8244",
   "metadata": {
    "execution": {
     "iopub.execute_input": "2024-10-10T10:49:16.249099Z",
     "iopub.status.busy": "2024-10-10T10:49:16.248148Z",
     "iopub.status.idle": "2024-10-10T10:49:16.257643Z",
     "shell.execute_reply": "2024-10-10T10:49:16.256103Z"
    },
    "papermill": {
     "duration": 0.022683,
     "end_time": "2024-10-10T10:49:16.260544",
     "exception": false,
     "start_time": "2024-10-10T10:49:16.237861",
     "status": "completed"
    },
    "tags": []
   },
   "outputs": [
    {
     "data": {
      "text/plain": [
       "10"
      ]
     },
     "execution_count": 11,
     "metadata": {},
     "output_type": "execute_result"
    }
   ],
   "source": [
    "df.isnull().sum().sum()"
   ]
  },
  {
   "cell_type": "markdown",
   "id": "2cb96042",
   "metadata": {
    "papermill": {
     "duration": 0.008866,
     "end_time": "2024-10-10T10:49:16.278392",
     "exception": false,
     "start_time": "2024-10-10T10:49:16.269526",
     "status": "completed"
    },
    "tags": []
   },
   "source": [
    "# Droping the row with NaN"
   ]
  },
  {
   "cell_type": "code",
   "execution_count": 12,
   "id": "31bcd9a2",
   "metadata": {
    "execution": {
     "iopub.execute_input": "2024-10-10T10:49:16.298728Z",
     "iopub.status.busy": "2024-10-10T10:49:16.297718Z",
     "iopub.status.idle": "2024-10-10T10:49:16.305196Z",
     "shell.execute_reply": "2024-10-10T10:49:16.304051Z"
    },
    "papermill": {
     "duration": 0.021175,
     "end_time": "2024-10-10T10:49:16.308469",
     "exception": false,
     "start_time": "2024-10-10T10:49:16.287294",
     "status": "completed"
    },
    "tags": []
   },
   "outputs": [
    {
     "data": {
      "text/plain": [
       "(30, 5)"
      ]
     },
     "execution_count": 12,
     "metadata": {},
     "output_type": "execute_result"
    }
   ],
   "source": [
    "df.shape"
   ]
  },
  {
   "cell_type": "code",
   "execution_count": 13,
   "id": "3ea6803c",
   "metadata": {
    "execution": {
     "iopub.execute_input": "2024-10-10T10:49:16.328839Z",
     "iopub.status.busy": "2024-10-10T10:49:16.328387Z",
     "iopub.status.idle": "2024-10-10T10:49:16.336125Z",
     "shell.execute_reply": "2024-10-10T10:49:16.334925Z"
    },
    "papermill": {
     "duration": 0.020787,
     "end_time": "2024-10-10T10:49:16.338546",
     "exception": false,
     "start_time": "2024-10-10T10:49:16.317759",
     "status": "completed"
    },
    "tags": []
   },
   "outputs": [
    {
     "data": {
      "text/plain": [
       "150"
      ]
     },
     "execution_count": 13,
     "metadata": {},
     "output_type": "execute_result"
    }
   ],
   "source": [
    "df.size"
   ]
  },
  {
   "cell_type": "code",
   "execution_count": 14,
   "id": "25ceafc7",
   "metadata": {
    "execution": {
     "iopub.execute_input": "2024-10-10T10:49:16.358683Z",
     "iopub.status.busy": "2024-10-10T10:49:16.358222Z",
     "iopub.status.idle": "2024-10-10T10:49:16.365960Z",
     "shell.execute_reply": "2024-10-10T10:49:16.364816Z"
    },
    "papermill": {
     "duration": 0.020693,
     "end_time": "2024-10-10T10:49:16.368480",
     "exception": false,
     "start_time": "2024-10-10T10:49:16.347787",
     "status": "completed"
    },
    "tags": []
   },
   "outputs": [],
   "source": [
    "df2=df.dropna()"
   ]
  },
  {
   "cell_type": "code",
   "execution_count": 15,
   "id": "0ba4c6ad",
   "metadata": {
    "execution": {
     "iopub.execute_input": "2024-10-10T10:49:16.388785Z",
     "iopub.status.busy": "2024-10-10T10:49:16.388318Z",
     "iopub.status.idle": "2024-10-10T10:49:16.410491Z",
     "shell.execute_reply": "2024-10-10T10:49:16.409119Z"
    },
    "papermill": {
     "duration": 0.035471,
     "end_time": "2024-10-10T10:49:16.413238",
     "exception": false,
     "start_time": "2024-10-10T10:49:16.377767",
     "status": "completed"
    },
    "tags": []
   },
   "outputs": [
    {
     "data": {
      "text/html": [
       "<div>\n",
       "<style scoped>\n",
       "    .dataframe tbody tr th:only-of-type {\n",
       "        vertical-align: middle;\n",
       "    }\n",
       "\n",
       "    .dataframe tbody tr th {\n",
       "        vertical-align: top;\n",
       "    }\n",
       "\n",
       "    .dataframe thead th {\n",
       "        text-align: right;\n",
       "    }\n",
       "</style>\n",
       "<table border=\"1\" class=\"dataframe\">\n",
       "  <thead>\n",
       "    <tr style=\"text-align: right;\">\n",
       "      <th></th>\n",
       "      <th>Roll No.</th>\n",
       "      <th>Physics</th>\n",
       "      <th>Chemistry</th>\n",
       "      <th>Maths</th>\n",
       "      <th>Computer</th>\n",
       "    </tr>\n",
       "  </thead>\n",
       "  <tbody>\n",
       "    <tr>\n",
       "      <th>0</th>\n",
       "      <td>1</td>\n",
       "      <td>56.0</td>\n",
       "      <td>57.0</td>\n",
       "      <td>58.0</td>\n",
       "      <td>59.0</td>\n",
       "    </tr>\n",
       "    <tr>\n",
       "      <th>1</th>\n",
       "      <td>2</td>\n",
       "      <td>23.0</td>\n",
       "      <td>24.0</td>\n",
       "      <td>25.0</td>\n",
       "      <td>26.0</td>\n",
       "    </tr>\n",
       "    <tr>\n",
       "      <th>2</th>\n",
       "      <td>3</td>\n",
       "      <td>89.0</td>\n",
       "      <td>25.0</td>\n",
       "      <td>26.0</td>\n",
       "      <td>27.0</td>\n",
       "    </tr>\n",
       "    <tr>\n",
       "      <th>3</th>\n",
       "      <td>4</td>\n",
       "      <td>45.0</td>\n",
       "      <td>26.0</td>\n",
       "      <td>27.0</td>\n",
       "      <td>28.0</td>\n",
       "    </tr>\n",
       "    <tr>\n",
       "      <th>4</th>\n",
       "      <td>5</td>\n",
       "      <td>23.0</td>\n",
       "      <td>27.0</td>\n",
       "      <td>28.0</td>\n",
       "      <td>29.0</td>\n",
       "    </tr>\n",
       "    <tr>\n",
       "      <th>6</th>\n",
       "      <td>7</td>\n",
       "      <td>12.0</td>\n",
       "      <td>13.0</td>\n",
       "      <td>14.0</td>\n",
       "      <td>15.0</td>\n",
       "    </tr>\n",
       "    <tr>\n",
       "      <th>7</th>\n",
       "      <td>8</td>\n",
       "      <td>78.0</td>\n",
       "      <td>14.0</td>\n",
       "      <td>15.0</td>\n",
       "      <td>16.0</td>\n",
       "    </tr>\n",
       "    <tr>\n",
       "      <th>9</th>\n",
       "      <td>10</td>\n",
       "      <td>45.0</td>\n",
       "      <td>16.0</td>\n",
       "      <td>17.0</td>\n",
       "      <td>18.0</td>\n",
       "    </tr>\n",
       "    <tr>\n",
       "      <th>12</th>\n",
       "      <td>13</td>\n",
       "      <td>22.0</td>\n",
       "      <td>23.0</td>\n",
       "      <td>24.0</td>\n",
       "      <td>25.0</td>\n",
       "    </tr>\n",
       "    <tr>\n",
       "      <th>15</th>\n",
       "      <td>16</td>\n",
       "      <td>44.0</td>\n",
       "      <td>44.0</td>\n",
       "      <td>44.0</td>\n",
       "      <td>44.0</td>\n",
       "    </tr>\n",
       "    <tr>\n",
       "      <th>16</th>\n",
       "      <td>17</td>\n",
       "      <td>45.0</td>\n",
       "      <td>45.0</td>\n",
       "      <td>45.0</td>\n",
       "      <td>45.0</td>\n",
       "    </tr>\n",
       "    <tr>\n",
       "      <th>17</th>\n",
       "      <td>18</td>\n",
       "      <td>46.0</td>\n",
       "      <td>46.0</td>\n",
       "      <td>46.0</td>\n",
       "      <td>46.0</td>\n",
       "    </tr>\n",
       "    <tr>\n",
       "      <th>18</th>\n",
       "      <td>19</td>\n",
       "      <td>47.0</td>\n",
       "      <td>47.0</td>\n",
       "      <td>47.0</td>\n",
       "      <td>47.0</td>\n",
       "    </tr>\n",
       "    <tr>\n",
       "      <th>19</th>\n",
       "      <td>20</td>\n",
       "      <td>48.0</td>\n",
       "      <td>48.0</td>\n",
       "      <td>48.0</td>\n",
       "      <td>48.0</td>\n",
       "    </tr>\n",
       "    <tr>\n",
       "      <th>20</th>\n",
       "      <td>21</td>\n",
       "      <td>49.0</td>\n",
       "      <td>49.0</td>\n",
       "      <td>49.0</td>\n",
       "      <td>49.0</td>\n",
       "    </tr>\n",
       "    <tr>\n",
       "      <th>21</th>\n",
       "      <td>22</td>\n",
       "      <td>50.0</td>\n",
       "      <td>50.0</td>\n",
       "      <td>50.0</td>\n",
       "      <td>50.0</td>\n",
       "    </tr>\n",
       "    <tr>\n",
       "      <th>22</th>\n",
       "      <td>23</td>\n",
       "      <td>51.0</td>\n",
       "      <td>51.0</td>\n",
       "      <td>51.0</td>\n",
       "      <td>51.0</td>\n",
       "    </tr>\n",
       "    <tr>\n",
       "      <th>23</th>\n",
       "      <td>24</td>\n",
       "      <td>52.0</td>\n",
       "      <td>52.0</td>\n",
       "      <td>52.0</td>\n",
       "      <td>52.0</td>\n",
       "    </tr>\n",
       "    <tr>\n",
       "      <th>25</th>\n",
       "      <td>26</td>\n",
       "      <td>54.0</td>\n",
       "      <td>33.0</td>\n",
       "      <td>33.0</td>\n",
       "      <td>54.0</td>\n",
       "    </tr>\n",
       "    <tr>\n",
       "      <th>26</th>\n",
       "      <td>27</td>\n",
       "      <td>55.0</td>\n",
       "      <td>34.0</td>\n",
       "      <td>34.0</td>\n",
       "      <td>55.0</td>\n",
       "    </tr>\n",
       "    <tr>\n",
       "      <th>28</th>\n",
       "      <td>29</td>\n",
       "      <td>57.0</td>\n",
       "      <td>36.0</td>\n",
       "      <td>36.0</td>\n",
       "      <td>66.0</td>\n",
       "    </tr>\n",
       "    <tr>\n",
       "      <th>29</th>\n",
       "      <td>30</td>\n",
       "      <td>58.0</td>\n",
       "      <td>37.0</td>\n",
       "      <td>37.0</td>\n",
       "      <td>43.0</td>\n",
       "    </tr>\n",
       "  </tbody>\n",
       "</table>\n",
       "</div>"
      ],
      "text/plain": [
       "    Roll No.  Physics  Chemistry  Maths  Computer\n",
       "0          1     56.0       57.0   58.0      59.0\n",
       "1          2     23.0       24.0   25.0      26.0\n",
       "2          3     89.0       25.0   26.0      27.0\n",
       "3          4     45.0       26.0   27.0      28.0\n",
       "4          5     23.0       27.0   28.0      29.0\n",
       "6          7     12.0       13.0   14.0      15.0\n",
       "7          8     78.0       14.0   15.0      16.0\n",
       "9         10     45.0       16.0   17.0      18.0\n",
       "12        13     22.0       23.0   24.0      25.0\n",
       "15        16     44.0       44.0   44.0      44.0\n",
       "16        17     45.0       45.0   45.0      45.0\n",
       "17        18     46.0       46.0   46.0      46.0\n",
       "18        19     47.0       47.0   47.0      47.0\n",
       "19        20     48.0       48.0   48.0      48.0\n",
       "20        21     49.0       49.0   49.0      49.0\n",
       "21        22     50.0       50.0   50.0      50.0\n",
       "22        23     51.0       51.0   51.0      51.0\n",
       "23        24     52.0       52.0   52.0      52.0\n",
       "25        26     54.0       33.0   33.0      54.0\n",
       "26        27     55.0       34.0   34.0      55.0\n",
       "28        29     57.0       36.0   36.0      66.0\n",
       "29        30     58.0       37.0   37.0      43.0"
      ]
     },
     "execution_count": 15,
     "metadata": {},
     "output_type": "execute_result"
    }
   ],
   "source": [
    "df2"
   ]
  },
  {
   "cell_type": "code",
   "execution_count": 16,
   "id": "38555190",
   "metadata": {
    "execution": {
     "iopub.execute_input": "2024-10-10T10:49:16.434503Z",
     "iopub.status.busy": "2024-10-10T10:49:16.434082Z",
     "iopub.status.idle": "2024-10-10T10:49:16.441680Z",
     "shell.execute_reply": "2024-10-10T10:49:16.440401Z"
    },
    "papermill": {
     "duration": 0.021466,
     "end_time": "2024-10-10T10:49:16.444266",
     "exception": false,
     "start_time": "2024-10-10T10:49:16.422800",
     "status": "completed"
    },
    "tags": []
   },
   "outputs": [
    {
     "data": {
      "text/plain": [
       "(22, 5)"
      ]
     },
     "execution_count": 16,
     "metadata": {},
     "output_type": "execute_result"
    }
   ],
   "source": [
    "df2.shape"
   ]
  },
  {
   "cell_type": "code",
   "execution_count": 17,
   "id": "9e11dac8",
   "metadata": {
    "execution": {
     "iopub.execute_input": "2024-10-10T10:49:16.465674Z",
     "iopub.status.busy": "2024-10-10T10:49:16.465225Z",
     "iopub.status.idle": "2024-10-10T10:49:16.472762Z",
     "shell.execute_reply": "2024-10-10T10:49:16.471618Z"
    },
    "papermill": {
     "duration": 0.021284,
     "end_time": "2024-10-10T10:49:16.475411",
     "exception": false,
     "start_time": "2024-10-10T10:49:16.454127",
     "status": "completed"
    },
    "tags": []
   },
   "outputs": [
    {
     "data": {
      "text/plain": [
       "110"
      ]
     },
     "execution_count": 17,
     "metadata": {},
     "output_type": "execute_result"
    }
   ],
   "source": [
    "df2.size"
   ]
  },
  {
   "cell_type": "code",
   "execution_count": 18,
   "id": "cba432c7",
   "metadata": {
    "execution": {
     "iopub.execute_input": "2024-10-10T10:49:16.496928Z",
     "iopub.status.busy": "2024-10-10T10:49:16.496457Z",
     "iopub.status.idle": "2024-10-10T10:49:16.506704Z",
     "shell.execute_reply": "2024-10-10T10:49:16.505409Z"
    },
    "papermill": {
     "duration": 0.024256,
     "end_time": "2024-10-10T10:49:16.509515",
     "exception": false,
     "start_time": "2024-10-10T10:49:16.485259",
     "status": "completed"
    },
    "tags": []
   },
   "outputs": [
    {
     "data": {
      "text/plain": [
       "Roll No.     0\n",
       "Physics      0\n",
       "Chemistry    0\n",
       "Maths        0\n",
       "Computer     0\n",
       "dtype: int64"
      ]
     },
     "execution_count": 18,
     "metadata": {},
     "output_type": "execute_result"
    }
   ],
   "source": [
    "df2.isnull().sum()"
   ]
  },
  {
   "cell_type": "code",
   "execution_count": 19,
   "id": "1dff307c",
   "metadata": {
    "execution": {
     "iopub.execute_input": "2024-10-10T10:49:16.533146Z",
     "iopub.status.busy": "2024-10-10T10:49:16.531871Z",
     "iopub.status.idle": "2024-10-10T10:49:16.539379Z",
     "shell.execute_reply": "2024-10-10T10:49:16.538101Z"
    },
    "papermill": {
     "duration": 0.022675,
     "end_time": "2024-10-10T10:49:16.542305",
     "exception": false,
     "start_time": "2024-10-10T10:49:16.519630",
     "status": "completed"
    },
    "tags": []
   },
   "outputs": [],
   "source": [
    "df2=df.dropna(axis=1)"
   ]
  },
  {
   "cell_type": "code",
   "execution_count": 20,
   "id": "de46fdf9",
   "metadata": {
    "execution": {
     "iopub.execute_input": "2024-10-10T10:49:16.564023Z",
     "iopub.status.busy": "2024-10-10T10:49:16.563539Z",
     "iopub.status.idle": "2024-10-10T10:49:16.570195Z",
     "shell.execute_reply": "2024-10-10T10:49:16.568795Z"
    },
    "papermill": {
     "duration": 0.020517,
     "end_time": "2024-10-10T10:49:16.572780",
     "exception": false,
     "start_time": "2024-10-10T10:49:16.552263",
     "status": "completed"
    },
    "tags": []
   },
   "outputs": [],
   "source": [
    "df2=df.dropna(how='any')"
   ]
  },
  {
   "cell_type": "code",
   "execution_count": 21,
   "id": "35036f6c",
   "metadata": {
    "execution": {
     "iopub.execute_input": "2024-10-10T10:49:16.594507Z",
     "iopub.status.busy": "2024-10-10T10:49:16.594086Z",
     "iopub.status.idle": "2024-10-10T10:49:16.600743Z",
     "shell.execute_reply": "2024-10-10T10:49:16.599187Z"
    },
    "papermill": {
     "duration": 0.020417,
     "end_time": "2024-10-10T10:49:16.603273",
     "exception": false,
     "start_time": "2024-10-10T10:49:16.582856",
     "status": "completed"
    },
    "tags": []
   },
   "outputs": [],
   "source": [
    "df2=df.dropna(how='all')"
   ]
  },
  {
   "cell_type": "code",
   "execution_count": 22,
   "id": "22617d74",
   "metadata": {
    "execution": {
     "iopub.execute_input": "2024-10-10T10:49:16.625057Z",
     "iopub.status.busy": "2024-10-10T10:49:16.624610Z",
     "iopub.status.idle": "2024-10-10T10:49:16.632433Z",
     "shell.execute_reply": "2024-10-10T10:49:16.631068Z"
    },
    "papermill": {
     "duration": 0.022249,
     "end_time": "2024-10-10T10:49:16.635489",
     "exception": false,
     "start_time": "2024-10-10T10:49:16.613240",
     "status": "completed"
    },
    "tags": []
   },
   "outputs": [
    {
     "data": {
      "text/plain": [
       "150"
      ]
     },
     "execution_count": 22,
     "metadata": {},
     "output_type": "execute_result"
    }
   ],
   "source": [
    "df2.size"
   ]
  },
  {
   "cell_type": "markdown",
   "id": "467b7b63",
   "metadata": {
    "papermill": {
     "duration": 0.009907,
     "end_time": "2024-10-10T10:49:16.655690",
     "exception": false,
     "start_time": "2024-10-10T10:49:16.645783",
     "status": "completed"
    },
    "tags": []
   },
   "source": [
    "****End***"
   ]
  }
 ],
 "metadata": {
  "kaggle": {
   "accelerator": "none",
   "dataSources": [
    {
     "datasetId": 5851251,
     "sourceId": 9593003,
     "sourceType": "datasetVersion"
    }
   ],
   "dockerImageVersionId": 30786,
   "isGpuEnabled": false,
   "isInternetEnabled": true,
   "language": "python",
   "sourceType": "notebook"
  },
  "kernelspec": {
   "display_name": "Python 3",
   "language": "python",
   "name": "python3"
  },
  "language_info": {
   "codemirror_mode": {
    "name": "ipython",
    "version": 3
   },
   "file_extension": ".py",
   "mimetype": "text/x-python",
   "name": "python",
   "nbconvert_exporter": "python",
   "pygments_lexer": "ipython3",
   "version": "3.10.14"
  },
  "papermill": {
   "default_parameters": {},
   "duration": 5.280096,
   "end_time": "2024-10-10T10:49:17.187636",
   "environment_variables": {},
   "exception": null,
   "input_path": "__notebook__.ipynb",
   "output_path": "__notebook__.ipynb",
   "parameters": {},
   "start_time": "2024-10-10T10:49:11.907540",
   "version": "2.6.0"
  }
 },
 "nbformat": 4,
 "nbformat_minor": 5
}
